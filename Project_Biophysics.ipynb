{
  "cells": [
    {
      "cell_type": "code",
      "execution_count": null,
      "metadata": {
        "colab": {
          "base_uri": "https://localhost:8080/"
        },
        "id": "H3GcVWF6ECbE",
        "outputId": "6716d2de-b3b0-45b1-c617-ab27c6eef682"
      },
      "outputs": [
        {
          "output_type": "stream",
          "name": "stdout",
          "text": [
            "Looking in indexes: https://pypi.org/simple, https://us-python.pkg.dev/colab-wheels/public/simple/\n",
            "Requirement already satisfied: biopython in /usr/local/lib/python3.7/dist-packages (1.79)\n",
            "Requirement already satisfied: numpy in /usr/local/lib/python3.7/dist-packages (from biopython) (1.21.6)\n"
          ]
        }
      ],
      "source": [
        "  !pip install biopython"
      ]
    },
    {
      "cell_type": "code",
      "execution_count": null,
      "metadata": {
        "colab": {
          "base_uri": "https://localhost:8080/"
        },
        "id": "1KxSpgnmICcs",
        "outputId": "25c6b7f7-f643-47e9-f9ac-cea3032cb618"
      },
      "outputs": [
        {
          "output_type": "stream",
          "name": "stdout",
          "text": [
            "Looking in indexes: https://pypi.org/simple, https://us-python.pkg.dev/colab-wheels/public/simple/\n",
            "Requirement already satisfied: nglview in /usr/local/lib/python3.7/dist-packages (3.0.3)\n",
            "Requirement already satisfied: ipywidgets>=7 in /usr/local/lib/python3.7/dist-packages (from nglview) (7.7.1)\n",
            "Requirement already satisfied: numpy in /usr/local/lib/python3.7/dist-packages (from nglview) (1.21.6)\n",
            "Requirement already satisfied: jupyterlab-widgets in /usr/local/lib/python3.7/dist-packages (from nglview) (3.0.3)\n",
            "Requirement already satisfied: ipython>=4.0.0 in /usr/local/lib/python3.7/dist-packages (from ipywidgets>=7->nglview) (7.9.0)\n",
            "Requirement already satisfied: widgetsnbextension~=3.6.0 in /usr/local/lib/python3.7/dist-packages (from ipywidgets>=7->nglview) (3.6.1)\n",
            "Requirement already satisfied: traitlets>=4.3.1 in /usr/local/lib/python3.7/dist-packages (from ipywidgets>=7->nglview) (5.1.1)\n",
            "Requirement already satisfied: ipykernel>=4.5.1 in /usr/local/lib/python3.7/dist-packages (from ipywidgets>=7->nglview) (5.3.4)\n",
            "Requirement already satisfied: ipython-genutils~=0.2.0 in /usr/local/lib/python3.7/dist-packages (from ipywidgets>=7->nglview) (0.2.0)\n",
            "Requirement already satisfied: tornado>=4.2 in /usr/local/lib/python3.7/dist-packages (from ipykernel>=4.5.1->ipywidgets>=7->nglview) (6.0.4)\n",
            "Requirement already satisfied: jupyter-client in /usr/local/lib/python3.7/dist-packages (from ipykernel>=4.5.1->ipywidgets>=7->nglview) (6.1.12)\n",
            "Requirement already satisfied: backcall in /usr/local/lib/python3.7/dist-packages (from ipython>=4.0.0->ipywidgets>=7->nglview) (0.2.0)\n",
            "Requirement already satisfied: pexpect in /usr/local/lib/python3.7/dist-packages (from ipython>=4.0.0->ipywidgets>=7->nglview) (4.8.0)\n",
            "Requirement already satisfied: decorator in /usr/local/lib/python3.7/dist-packages (from ipython>=4.0.0->ipywidgets>=7->nglview) (4.4.2)\n",
            "Requirement already satisfied: jedi>=0.10 in /usr/local/lib/python3.7/dist-packages (from ipython>=4.0.0->ipywidgets>=7->nglview) (0.18.2)\n",
            "Requirement already satisfied: pickleshare in /usr/local/lib/python3.7/dist-packages (from ipython>=4.0.0->ipywidgets>=7->nglview) (0.7.5)\n",
            "Requirement already satisfied: pygments in /usr/local/lib/python3.7/dist-packages (from ipython>=4.0.0->ipywidgets>=7->nglview) (2.6.1)\n",
            "Requirement already satisfied: prompt-toolkit<2.1.0,>=2.0.0 in /usr/local/lib/python3.7/dist-packages (from ipython>=4.0.0->ipywidgets>=7->nglview) (2.0.10)\n",
            "Requirement already satisfied: setuptools>=18.5 in /usr/local/lib/python3.7/dist-packages (from ipython>=4.0.0->ipywidgets>=7->nglview) (57.4.0)\n",
            "Requirement already satisfied: parso<0.9.0,>=0.8.0 in /usr/local/lib/python3.7/dist-packages (from jedi>=0.10->ipython>=4.0.0->ipywidgets>=7->nglview) (0.8.3)\n",
            "Requirement already satisfied: wcwidth in /usr/local/lib/python3.7/dist-packages (from prompt-toolkit<2.1.0,>=2.0.0->ipython>=4.0.0->ipywidgets>=7->nglview) (0.2.5)\n",
            "Requirement already satisfied: six>=1.9.0 in /usr/local/lib/python3.7/dist-packages (from prompt-toolkit<2.1.0,>=2.0.0->ipython>=4.0.0->ipywidgets>=7->nglview) (1.15.0)\n",
            "Requirement already satisfied: notebook>=4.4.1 in /usr/local/lib/python3.7/dist-packages (from widgetsnbextension~=3.6.0->ipywidgets>=7->nglview) (5.7.16)\n",
            "Requirement already satisfied: nbformat in /usr/local/lib/python3.7/dist-packages (from notebook>=4.4.1->widgetsnbextension~=3.6.0->ipywidgets>=7->nglview) (5.7.0)\n",
            "Requirement already satisfied: Send2Trash in /usr/local/lib/python3.7/dist-packages (from notebook>=4.4.1->widgetsnbextension~=3.6.0->ipywidgets>=7->nglview) (1.8.0)\n",
            "Requirement already satisfied: pyzmq>=17 in /usr/local/lib/python3.7/dist-packages (from notebook>=4.4.1->widgetsnbextension~=3.6.0->ipywidgets>=7->nglview) (23.2.1)\n",
            "Requirement already satisfied: terminado>=0.8.1 in /usr/local/lib/python3.7/dist-packages (from notebook>=4.4.1->widgetsnbextension~=3.6.0->ipywidgets>=7->nglview) (0.13.3)\n",
            "Requirement already satisfied: nbconvert<6.0 in /usr/local/lib/python3.7/dist-packages (from notebook>=4.4.1->widgetsnbextension~=3.6.0->ipywidgets>=7->nglview) (5.6.1)\n",
            "Requirement already satisfied: jupyter-core>=4.4.0 in /usr/local/lib/python3.7/dist-packages (from notebook>=4.4.1->widgetsnbextension~=3.6.0->ipywidgets>=7->nglview) (4.11.2)\n",
            "Requirement already satisfied: jinja2<=3.0.0 in /usr/local/lib/python3.7/dist-packages (from notebook>=4.4.1->widgetsnbextension~=3.6.0->ipywidgets>=7->nglview) (2.11.3)\n",
            "Requirement already satisfied: prometheus-client in /usr/local/lib/python3.7/dist-packages (from notebook>=4.4.1->widgetsnbextension~=3.6.0->ipywidgets>=7->nglview) (0.15.0)\n",
            "Requirement already satisfied: MarkupSafe>=0.23 in /usr/local/lib/python3.7/dist-packages (from jinja2<=3.0.0->notebook>=4.4.1->widgetsnbextension~=3.6.0->ipywidgets>=7->nglview) (2.0.1)\n",
            "Requirement already satisfied: python-dateutil>=2.1 in /usr/local/lib/python3.7/dist-packages (from jupyter-client->ipykernel>=4.5.1->ipywidgets>=7->nglview) (2.8.2)\n",
            "Requirement already satisfied: mistune<2,>=0.8.1 in /usr/local/lib/python3.7/dist-packages (from nbconvert<6.0->notebook>=4.4.1->widgetsnbextension~=3.6.0->ipywidgets>=7->nglview) (0.8.4)\n",
            "Requirement already satisfied: pandocfilters>=1.4.1 in /usr/local/lib/python3.7/dist-packages (from nbconvert<6.0->notebook>=4.4.1->widgetsnbextension~=3.6.0->ipywidgets>=7->nglview) (1.5.0)\n",
            "Requirement already satisfied: entrypoints>=0.2.2 in /usr/local/lib/python3.7/dist-packages (from nbconvert<6.0->notebook>=4.4.1->widgetsnbextension~=3.6.0->ipywidgets>=7->nglview) (0.4)\n",
            "Requirement already satisfied: defusedxml in /usr/local/lib/python3.7/dist-packages (from nbconvert<6.0->notebook>=4.4.1->widgetsnbextension~=3.6.0->ipywidgets>=7->nglview) (0.7.1)\n",
            "Requirement already satisfied: bleach in /usr/local/lib/python3.7/dist-packages (from nbconvert<6.0->notebook>=4.4.1->widgetsnbextension~=3.6.0->ipywidgets>=7->nglview) (5.0.1)\n",
            "Requirement already satisfied: testpath in /usr/local/lib/python3.7/dist-packages (from nbconvert<6.0->notebook>=4.4.1->widgetsnbextension~=3.6.0->ipywidgets>=7->nglview) (0.6.0)\n",
            "Requirement already satisfied: fastjsonschema in /usr/local/lib/python3.7/dist-packages (from nbformat->notebook>=4.4.1->widgetsnbextension~=3.6.0->ipywidgets>=7->nglview) (2.16.2)\n",
            "Requirement already satisfied: jsonschema>=2.6 in /usr/local/lib/python3.7/dist-packages (from nbformat->notebook>=4.4.1->widgetsnbextension~=3.6.0->ipywidgets>=7->nglview) (4.3.3)\n",
            "Requirement already satisfied: importlib-metadata>=3.6 in /usr/local/lib/python3.7/dist-packages (from nbformat->notebook>=4.4.1->widgetsnbextension~=3.6.0->ipywidgets>=7->nglview) (4.13.0)\n",
            "Requirement already satisfied: typing-extensions>=3.6.4 in /usr/local/lib/python3.7/dist-packages (from importlib-metadata>=3.6->nbformat->notebook>=4.4.1->widgetsnbextension~=3.6.0->ipywidgets>=7->nglview) (4.1.1)\n",
            "Requirement already satisfied: zipp>=0.5 in /usr/local/lib/python3.7/dist-packages (from importlib-metadata>=3.6->nbformat->notebook>=4.4.1->widgetsnbextension~=3.6.0->ipywidgets>=7->nglview) (3.10.0)\n",
            "Requirement already satisfied: importlib-resources>=1.4.0 in /usr/local/lib/python3.7/dist-packages (from jsonschema>=2.6->nbformat->notebook>=4.4.1->widgetsnbextension~=3.6.0->ipywidgets>=7->nglview) (5.10.0)\n",
            "Requirement already satisfied: attrs>=17.4.0 in /usr/local/lib/python3.7/dist-packages (from jsonschema>=2.6->nbformat->notebook>=4.4.1->widgetsnbextension~=3.6.0->ipywidgets>=7->nglview) (22.1.0)\n",
            "Requirement already satisfied: pyrsistent!=0.17.0,!=0.17.1,!=0.17.2,>=0.14.0 in /usr/local/lib/python3.7/dist-packages (from jsonschema>=2.6->nbformat->notebook>=4.4.1->widgetsnbextension~=3.6.0->ipywidgets>=7->nglview) (0.19.2)\n",
            "Requirement already satisfied: ptyprocess in /usr/local/lib/python3.7/dist-packages (from terminado>=0.8.1->notebook>=4.4.1->widgetsnbextension~=3.6.0->ipywidgets>=7->nglview) (0.7.0)\n",
            "Requirement already satisfied: webencodings in /usr/local/lib/python3.7/dist-packages (from bleach->nbconvert<6.0->notebook>=4.4.1->widgetsnbextension~=3.6.0->ipywidgets>=7->nglview) (0.5.1)\n"
          ]
        }
      ],
      "source": [
        "!pip install nglview"
      ]
    },
    {
      "cell_type": "code",
      "execution_count": null,
      "metadata": {
        "id": "kx7zhsxD_7cd"
      },
      "outputs": [],
      "source": [
        "from Bio.PDB import *\n",
        "import nglview as nv"
      ]
    },
    {
      "cell_type": "code",
      "execution_count": null,
      "metadata": {
        "colab": {
          "base_uri": "https://localhost:8080/"
        },
        "id": "QAubPVtqAHbd",
        "outputId": "c04a9f93-9f33-4dcf-c730-e6e0cbd3eee1"
      },
      "outputs": [
        {
          "output_type": "stream",
          "name": "stdout",
          "text": [
            "URL transformed to HTTPS due to an HSTS policy\n",
            "--2022-11-22 09:41:55--  https://www.rcsb.org/pdb/files/6M0J.pdb.gz\n",
            "Resolving www.rcsb.org (www.rcsb.org)... 132.249.210.225\n",
            "Connecting to www.rcsb.org (www.rcsb.org)|132.249.210.225|:443... connected.\n",
            "HTTP request sent, awaiting response... 301 Moved Permanently\n",
            "Location: https://files.rcsb.org/download/6M0J.pdb.gz [following]\n",
            "--2022-11-22 09:41:55--  https://files.rcsb.org/download/6M0J.pdb.gz\n",
            "Resolving files.rcsb.org (files.rcsb.org)... 132.249.210.222\n",
            "Connecting to files.rcsb.org (files.rcsb.org)|132.249.210.222|:443... connected.\n",
            "HTTP request sent, awaiting response... 200 OK\n",
            "Length: 142932 (140K) [application/octet-stream]\n",
            "Saving to: ‘6M0J.pdb.gz’\n",
            "\n",
            "\r6M0J.pdb.gz           0%[                    ]       0  --.-KB/s               \r6M0J.pdb.gz         100%[===================>] 139.58K  --.-KB/s    in 0.03s   \n",
            "\n",
            "2022-11-22 09:41:56 (4.82 MB/s) - ‘6M0J.pdb.gz’ saved [142932/142932]\n",
            "\n"
          ]
        }
      ],
      "source": [
        "!wget http://www.rcsb.org/pdb/files/6M0J.pdb.gz"
      ]
    },
    {
      "cell_type": "code",
      "execution_count": null,
      "metadata": {
        "id": "9XRnFgyyB69D",
        "colab": {
          "base_uri": "https://localhost:8080/"
        },
        "outputId": "315437aa-2de6-496a-d367-8103d38842b3"
      },
      "outputs": [
        {
          "output_type": "stream",
          "name": "stdout",
          "text": [
            "gzip: 6M0J.pdb already exists; do you wish to overwrite (y or n)? n\n",
            "\tnot overwritten\n"
          ]
        }
      ],
      "source": [
        "!gunzip 6M0J.pdb.gz"
      ]
    },
    {
      "cell_type": "code",
      "execution_count": null,
      "metadata": {
        "colab": {
          "base_uri": "https://localhost:8080/"
        },
        "id": "2HBrrXkdN8h4",
        "outputId": "9ec26f1f-ab90-4edf-daad-79e0259144da"
      },
      "outputs": [
        {
          "output_type": "stream",
          "name": "stdout",
          "text": [
            "URL transformed to HTTPS due to an HSTS policy\n",
            "--2022-11-22 09:47:33--  https://www.rcsb.org/pdb/files/6M0J.cif.gz\n",
            "Resolving www.rcsb.org (www.rcsb.org)... 132.249.210.225\n",
            "Connecting to www.rcsb.org (www.rcsb.org)|132.249.210.225|:443... connected.\n",
            "HTTP request sent, awaiting response... 301 Moved Permanently\n",
            "Location: https://files.rcsb.org/download/6M0J.cif.gz [following]\n",
            "--2022-11-22 09:47:33--  https://files.rcsb.org/download/6M0J.cif.gz\n",
            "Resolving files.rcsb.org (files.rcsb.org)... 132.249.210.222\n",
            "Connecting to files.rcsb.org (files.rcsb.org)|132.249.210.222|:443... connected.\n",
            "HTTP request sent, awaiting response... 200 OK\n",
            "Length: 179630 (175K) [application/octet-stream]\n",
            "Saving to: ‘6M0J.cif.gz’\n",
            "\n",
            "6M0J.cif.gz         100%[===================>] 175.42K  --.-KB/s    in 0.03s   \n",
            "\n",
            "2022-11-22 09:47:33 (5.74 MB/s) - ‘6M0J.cif.gz’ saved [179630/179630]\n",
            "\n",
            "gzip: 6M0J.cif already exists; do you wish to overwrite (y or n)? n\n",
            "\tnot overwritten\n"
          ]
        }
      ],
      "source": [
        "!wget http://www.rcsb.org/pdb/files/6M0J.cif.gz\n",
        "!gunzip 6M0J.cif.gz"
      ]
    },
    {
      "cell_type": "code",
      "execution_count": null,
      "metadata": {
        "colab": {
          "base_uri": "https://localhost:8080/",
          "height": 35
        },
        "id": "kkee8zj9HVKX",
        "outputId": "bdbfdf7d-273f-42a5-88e5-b1c36ed8657a"
      },
      "outputs": [
        {
          "output_type": "execute_result",
          "data": {
            "text/plain": [
              "'\\n#This will separate each chain into its own PDB file\\nfor chain in structure.get_chains():\\n    io.set_structure(chain)\\n    io.save(\"6M0J_\" + chain.get_id() + \".pdb\")\\n'"
            ],
            "application/vnd.google.colaboratory.intrinsic+json": {
              "type": "string"
            }
          },
          "metadata": {},
          "execution_count": 72
        }
      ],
      "source": [
        "#And we set up a parser for our PDB\n",
        "parser = PDBParser()\n",
        "io=PDBIO()\n",
        "structure = parser.get_structure('X', '6M0J.pdb')\n",
        "\n",
        "\"\"\"\n",
        "#This will separate each chain into its own PDB file\n",
        "for chain in structure.get_chains():\n",
        "    io.set_structure(chain)\n",
        "    io.save(\"6M0J_\" + chain.get_id() + \".pdb\")\n",
        "\"\"\""
      ]
    },
    {
      "cell_type": "code",
      "execution_count": null,
      "metadata": {
        "colab": {
          "base_uri": "https://localhost:8080/"
        },
        "id": "XcbW8btLIRXJ",
        "outputId": "22e2f6f7-2a51-44d7-95dd-a2ed30cfd1f8"
      },
      "outputs": [
        {
          "output_type": "execute_result",
          "data": {
            "text/plain": [
              "[<Model id=0>]"
            ]
          },
          "metadata": {},
          "execution_count": 73
        }
      ],
      "source": [
        "# Number of models \n",
        "len(structure)\n",
        "list(structure.get_models())"
      ]
    },
    {
      "cell_type": "code",
      "execution_count": null,
      "metadata": {
        "colab": {
          "base_uri": "https://localhost:8080/"
        },
        "id": "qx2EK11dJpul",
        "outputId": "7deed4b2-6e00-4cc2-c3b0-2ea2aea51431"
      },
      "outputs": [
        {
          "output_type": "stream",
          "name": "stdout",
          "text": [
            "A 674\n",
            "E 204\n"
          ]
        }
      ],
      "source": [
        "for chain in structure[0]:\n",
        "    print(chain.id, len(chain))"
      ]
    },
    {
      "cell_type": "markdown",
      "metadata": {
        "id": "BxXXxfJML9GD"
      },
      "source": [
        "\n",
        "## Preparation: quality checking\n"
      ]
    },
    {
      "cell_type": "code",
      "execution_count": null,
      "metadata": {
        "colab": {
          "base_uri": "https://localhost:8080/"
        },
        "id": "eAvRIMNmMYWD",
        "outputId": "0e19aa82-dcb6-4ffb-8353-d283e1ad259f"
      },
      "outputs": [
        {
          "output_type": "stream",
          "name": "stdout",
          "text": [
            "Looking in indexes: https://pypi.org/simple, https://us-python.pkg.dev/colab-wheels/public/simple/\n",
            "Requirement already satisfied: biobb_structure_checking>=3.10.1 in /usr/local/lib/python3.7/dist-packages (3.10.1)\n",
            "Requirement already satisfied: numpy in /usr/local/lib/python3.7/dist-packages (from biobb_structure_checking>=3.10.1) (1.21.6)\n",
            "Requirement already satisfied: psutil in /usr/local/lib/python3.7/dist-packages (from biobb_structure_checking>=3.10.1) (5.4.8)\n",
            "Requirement already satisfied: biopython==1.79 in /usr/local/lib/python3.7/dist-packages (from biobb_structure_checking>=3.10.1) (1.79)\n"
          ]
        }
      ],
      "source": [
        "!pip install \"biobb_structure_checking>=3.10.1\""
      ]
    },
    {
      "cell_type": "code",
      "execution_count": null,
      "metadata": {
        "id": "SDOAxoocJZ4o"
      },
      "outputs": [],
      "source": [
        "# needed imports\n",
        "import biobb_structure_checking\n",
        "import biobb_structure_checking.constants as cts\n",
        "from biobb_structure_checking.structure_checking import StructureChecking\n",
        "base_dir_path=biobb_structure_checking.__path__[0]\n",
        "args = cts.set_defaults(base_dir_path,{'notebook':True})"
      ]
    },
    {
      "cell_type": "markdown",
      "metadata": {
        "id": "uklsfM04MlF-"
      },
      "source": [
        "General help"
      ]
    },
    {
      "cell_type": "code",
      "execution_count": null,
      "metadata": {
        "colab": {
          "base_uri": "https://localhost:8080/"
        },
        "id": "PDTESJ5gMgJ7",
        "outputId": "9ea71fbf-ff12-4299-a1dd-d53b83cf3e9e"
      },
      "outputs": [
        {
          "output_type": "stream",
          "name": "stdout",
          "text": [
            "\n",
            "BioBB's check_structure.py performs MDWeb structure checking set as a command line\n",
            "utility.\n",
            "\n",
            "commands:     Help on available commands\n",
            "command_list: Run all tests from conf file or command line list\n",
            "checkall:     Perform all checks without fixes\n",
            "load:         Stores structure on local cache and provides basic statistics\n",
            "\n",
            "1. System Configuration\n",
            "=======================\n",
            "sequences \n",
            "    Print canonical and structure sequences in FASTA format\n",
            "models [--select model_num] [--superimpose] [--save_split]\n",
            "    Detect/Select Models\n",
            "    --superimpose Superimposes currently selected models\n",
            "    --save_split Split models as separated output files. \n",
            "chains [--select chain_ids | molecule_type]\n",
            "    Detect/Select Chains\n",
            "inscodes \n",
            "    Detects residues with insertion codes. No fix provided (yet)\n",
            "altloc [--select occupancy| alt_id | list of res_id:alt_id]\n",
            "    Detect/Select Alternative Locations\n",
            "metals [--remove All | None | Met_ids_list | Residue_list]\n",
            "    Detect/Remove Metals\n",
            "ligands [--remove All | None | Res_type_list | Residue_list]\n",
            "    Detect/Remove Ligands\n",
            "getss      Detect SS Bonds\n",
            "    --mark Replace relevant CYS by CYX to mark SS Bond (HG atom removed if present)\n",
            "water [--remove Yes|No]\n",
            "    Remove Water molecules\n",
            "rem_hydrogen [--remove Yes|No]\n",
            "    Remove Hydrogen atoms from structure\n",
            "mutateside [--mut mutation_list|file:mutations_file] [--no_check_clashes]\n",
            "    Mutate side chain with minimal atom replacement. Allows multiple mutations.\n",
            "    mutation_list as file: accepts list of mutations in a external file\n",
            "    Check generated clashes except --no_check_clashes set\n",
            "    --rebuild Optimize side chains using Modeller. \n",
            "add_hydrogen [--add_mode auto | pH | list | interactive | interactive_his] [--no_fix_side] [--keep_h] [--add_charges FF]\n",
            "    Add Hydrogen Atoms. Auto: std changes at pH 7.0. His->Hie. pH: set pH value\n",
            "    list: Explicit list as [*:]HisXXHid, Interactive[_his]: Prompts for all selectable residues\n",
            "    Fixes missing side chain atoms unless --no_fix_side is set\n",
            "    Existing hydrogen atoms are removed before adding new ones unless --keep_h set.\n",
            "    --add_charges FF adds partial charges (from RES_LIBRARY) and atom types from FF forcefield. Output format taken from file extension or --output_format\n",
            "    Residue names are modified according to ionization state (e.g. HIS-> HIE, HID, HIP). Use --keep_canonical_resnames to avoid this behaviour\n",
            "2. Fix Structure Errors\n",
            "\n",
            "amide  [--fix All|None|Residue List] [--no_recheck]\n",
            "    Detect/Fix Amide atoms Assignment\n",
            "    Amide contacts are recheck unless --no_recheck\n",
            "chiral [--fix All|None|Residue List] [--no_check_clashes]\n",
            "    Detect/Fix Improper quirality\n",
            "    Checks generated clashes unless --no_check_clashes set\n",
            "fixside [--fix All |None|Residue List] [--no_check_clashes]\n",
            "    Complete side chains (heavy atoms, protein only)\n",
            "    Checks generated clashes unless --no_check_clashes set\n",
            "    --rebuild  Rebuild complete side chain using Modeller\n",
            "backbone [--fix_atoms All|None|Residue List]\n",
            "         [--fix_chain All|None|Break list] \n",
            "         [--add_caps All|None|Break list] \n",
            "         [--extra_gap]\n",
            "         [--no_recheck]\n",
            "         [--no_check_clashes]\n",
            "    Analyze main chain missing atoms and fragments (protein only).\n",
            "    --fix_atoms Missing O, OXT atoms can be fixed \n",
            "    --fix_chain Missing fragments filled using comparative modelling (Modeller License needed)\n",
            "    --add_caps Adds ACE and NME residues as necessary, preserving existing atoms\n",
            "    --extra_gap Recovers additional residues from model either side of the break, helps to fix loop connections (experimental)\n",
            "    Rechecks beckbone on each op unless --no_recheck is set.\n",
            "    Generated clashes are checked unless --no_check_clashes\n",
            "\n",
            "\n",
            "3. Structure Warnings (no fix)\n",
            "\n",
            "cistransbck Analyzes cis-trans dihedrals on backbone atoms\n",
            "clashes    Steric clashes (Severe, Apolar, Polar Donors, Polar Acceptors,\n",
            "           Ionic Positive, Ionic Negative)\n",
            "\n"
          ]
        }
      ],
      "source": [
        "with open(args['commands_help_path']) as help_file:\n",
        "    print(help_file.read())\n",
        "#TODO: prepare a specific help method\n",
        "# print_help(command)"
      ]
    },
    {
      "cell_type": "code",
      "execution_count": null,
      "metadata": {
        "id": "ZsKR4N8NNBhF"
      },
      "outputs": [],
      "source": [
        "base_path = './'\n",
        "args['input_structure_path'] = base_path + '6M0J.cif'\n",
        "args['output_structure_path'] = base_path + '6m0j_fixed.pdb'\n",
        "args['output_format'] = \"pdb\"\n",
        "args['keep_canonical'] = False\n",
        "args['output_structure_path_charges'] = base_path + '6m0j_fixed.pdbqt'\n",
        "args['debug'] = False\n",
        "args['verbose'] = False"
      ]
    },
    {
      "cell_type": "code",
      "execution_count": null,
      "metadata": {
        "colab": {
          "base_uri": "https://localhost:8080/"
        },
        "id": "9jMwd0FVNSqI",
        "outputId": "bced3369-e2b4-4f87-cbc6-7fe1100267a2"
      },
      "outputs": [
        {
          "output_type": "stream",
          "name": "stdout",
          "text": [
            "Structure ./6M0J.cif loaded\n",
            " PDB id: 6M0J\n",
            " Title: Crystal structure of SARS-CoV-2 spike receptor-binding domain bound with ACE2\n",
            " Experimental method: X-RAY DIFFRACTION\n",
            " Keywords: VIRAL PROTEIN/HYDROLASE\n",
            " Resolution (A): 2.4500\n",
            "\n",
            " Num. models: 1\n",
            " Num. chains: 2 (A: Protein, E: Protein)\n",
            " Num. residues:  878\n",
            " Num. residues with ins. codes:  0\n",
            " Num. residues with H atoms: 0\n",
            " Num. HETATM residues:  87\n",
            " Num. ligands or modified residues:  7\n",
            " Num. water mol.:  80\n",
            " Num. atoms:  6558\n",
            "Metal/Ion residues found\n",
            " ZN A901\n",
            " CL A902\n",
            "Small mol ligands found\n",
            "NAG A903\n",
            "NAG A904\n",
            "NAG A905\n",
            "NAG A906\n",
            "NAG E601\n",
            "\n"
          ]
        }
      ],
      "source": [
        "st_c = StructureChecking(base_dir_path, args)"
      ]
    },
    {
      "cell_type": "markdown",
      "metadata": {
        "id": "Qp8NzdC0OW_s"
      },
      "source": [
        "Here we can check how many models do we have:"
      ]
    },
    {
      "cell_type": "code",
      "execution_count": null,
      "metadata": {
        "colab": {
          "base_uri": "https://localhost:8080/"
        },
        "id": "1IRRa1tlNU4t",
        "outputId": "29b3b4f2-6b43-4517-b122-68883cd04fb4"
      },
      "outputs": [
        {
          "output_type": "stream",
          "name": "stdout",
          "text": [
            "Running models.\n",
            "1 Model(s) detected\n",
            "Single model found\n"
          ]
        }
      ],
      "source": [
        "st_c.models()"
      ]
    },
    {
      "cell_type": "markdown",
      "metadata": {
        "id": "u-8C0I8SOmrF"
      },
      "source": [
        "There are two chains in our model:"
      ]
    },
    {
      "cell_type": "code",
      "execution_count": null,
      "metadata": {
        "colab": {
          "base_uri": "https://localhost:8080/"
        },
        "id": "ZOeBOI5cORBH",
        "outputId": "1579f1ce-41d4-4859-8783-ca5a1f1a70fd"
      },
      "outputs": [
        {
          "output_type": "stream",
          "name": "stdout",
          "text": [
            "Running chains.\n",
            "2 Chain(s) detected\n",
            " A: Protein\n",
            " E: Protein\n"
          ]
        }
      ],
      "source": [
        "st_c.chains()"
      ]
    },
    {
      "cell_type": "markdown",
      "metadata": {
        "id": "BKwM6CO2O8WD"
      },
      "source": [
        "Then we can check if there are any atoms with alternative locations:"
      ]
    },
    {
      "cell_type": "code",
      "execution_count": null,
      "metadata": {
        "colab": {
          "base_uri": "https://localhost:8080/"
        },
        "id": "N-7sqAbcOl3l",
        "outputId": "a959fe3e-c0eb-470b-cd60-eb56a71bada5"
      },
      "outputs": [
        {
          "output_type": "stream",
          "name": "stdout",
          "text": [
            "Running altloc.\n",
            "Detected 2 residues with alternative location labels\n",
            "HIS A228\n",
            "  CA   A (0.50) B (0.50)\n",
            "  CB   A (0.50) B (0.50)\n",
            "  CG   A (0.50) B (0.50)\n",
            "  ND1  A (0.50) B (0.50)\n",
            "  CD2  A (0.50) B (0.50)\n",
            "  CE1  A (0.50) B (0.50)\n",
            "  NE2  A (0.50) B (0.50)\n",
            "GLN E493\n",
            "  CA   A (0.50) B (0.50)\n",
            "  CB   A (0.50) B (0.50)\n",
            "  CG   A (0.50) B (0.50)\n",
            "  CD   A (0.50) B (0.50)\n",
            "  OE1  A (0.50) B (0.50)\n",
            "  NE2  A (0.50) B (0.50)\n"
          ]
        }
      ],
      "source": [
        "st_c.altloc()"
      ]
    },
    {
      "cell_type": "markdown",
      "metadata": {
        "id": "_1AIceE4PRCy"
      },
      "source": [
        "There are two of them: His A228 and Gln E493 and thus for each we have to fix one state."
      ]
    },
    {
      "cell_type": "code",
      "execution_count": null,
      "metadata": {
        "colab": {
          "base_uri": "https://localhost:8080/"
        },
        "id": "uovoJpj4POWy",
        "outputId": "613c8678-aedd-49e8-dcc9-7b60721a9172"
      },
      "outputs": [
        {
          "output_type": "stream",
          "name": "stdout",
          "text": [
            "Running altloc. Options: occupancy\n",
            "Detected 2 residues with alternative location labels\n",
            "HIS A228\n",
            "  CA   A (0.50) B (0.50)\n",
            "  CB   A (0.50) B (0.50)\n",
            "  CG   A (0.50) B (0.50)\n",
            "  ND1  A (0.50) B (0.50)\n",
            "  CD2  A (0.50) B (0.50)\n",
            "  CE1  A (0.50) B (0.50)\n",
            "  NE2  A (0.50) B (0.50)\n",
            "GLN E493\n",
            "  CA   A (0.50) B (0.50)\n",
            "  CB   A (0.50) B (0.50)\n",
            "  CG   A (0.50) B (0.50)\n",
            "  CD   A (0.50) B (0.50)\n",
            "  OE1  A (0.50) B (0.50)\n",
            "  NE2  A (0.50) B (0.50)\n",
            "Selecting location occupancy\n"
          ]
        }
      ],
      "source": [
        "st_c.altloc('occupancy')"
      ]
    },
    {
      "cell_type": "code",
      "execution_count": null,
      "metadata": {
        "colab": {
          "base_uri": "https://localhost:8080/"
        },
        "id": "IqV1vZeRP1-B",
        "outputId": "f9cc6c43-d5c9-48bc-f116-e85c1203b255"
      },
      "outputs": [
        {
          "output_type": "stream",
          "name": "stdout",
          "text": [
            "Running altloc.\n",
            "No residues with alternative location labels detected\n"
          ]
        }
      ],
      "source": [
        "st_c.altloc()"
      ]
    },
    {
      "cell_type": "markdown",
      "metadata": {
        "id": "gs4Fjd8rP9z5"
      },
      "source": [
        "We can check if there are any metal ions in our structure:\n",
        "there is only one zinc ion in the structure"
      ]
    },
    {
      "cell_type": "code",
      "execution_count": null,
      "metadata": {
        "colab": {
          "base_uri": "https://localhost:8080/"
        },
        "id": "Nbwv6VmEP31y",
        "outputId": "d8c400f9-ed06-44e8-cedd-7e0a4f1a9358"
      },
      "outputs": [
        {
          "output_type": "stream",
          "name": "stdout",
          "text": [
            "Running metals.\n",
            "1 Metal ions found\n",
            "  ZN A901.ZN \n"
          ]
        }
      ],
      "source": [
        "st_c.metals()"
      ]
    },
    {
      "cell_type": "markdown",
      "metadata": {
        "id": "8jt25jrnQmxy"
      },
      "source": [
        "Apart from metal ion there are som ligang in our structure that we will remove:"
      ]
    },
    {
      "cell_type": "code",
      "execution_count": null,
      "metadata": {
        "colab": {
          "base_uri": "https://localhost:8080/"
        },
        "id": "fafxmbnbQC_1",
        "outputId": "ba8ac58d-99d4-4a9e-be27-0529015d01b7"
      },
      "outputs": [
        {
          "output_type": "stream",
          "name": "stdout",
          "text": [
            "Running ligands.\n",
            "7 Ligands detected\n",
            "  ZN A901\n",
            "  CL A902\n",
            " NAG A903\n",
            " NAG A904\n",
            " NAG A905\n",
            " NAG A906\n",
            " NAG E601\n"
          ]
        }
      ],
      "source": [
        "st_c.ligands()"
      ]
    },
    {
      "cell_type": "code",
      "execution_count": null,
      "metadata": {
        "colab": {
          "base_uri": "https://localhost:8080/"
        },
        "id": "Iwaejw7tQuvT",
        "outputId": "c9d08325-3ad2-44fa-b46e-e0b2c1595458"
      },
      "outputs": [
        {
          "output_type": "stream",
          "name": "stdout",
          "text": [
            "Running ligands. Options: All\n",
            "7 Ligands detected\n",
            "  ZN A901\n",
            "  CL A902\n",
            " NAG A903\n",
            " NAG A904\n",
            " NAG A905\n",
            " NAG A906\n",
            " NAG E601\n",
            "Ligands removed All (7)\n"
          ]
        }
      ],
      "source": [
        "st_c.ligands('All')"
      ]
    },
    {
      "cell_type": "code",
      "execution_count": null,
      "metadata": {
        "colab": {
          "base_uri": "https://localhost:8080/"
        },
        "id": "ZCIO7KVKQy6x",
        "outputId": "a70317f0-c3cd-4a63-c256-544c4b3cf58b"
      },
      "outputs": [
        {
          "output_type": "stream",
          "name": "stdout",
          "text": [
            "Running ligands.\n",
            "No ligands found\n"
          ]
        }
      ],
      "source": [
        "st_c.ligands()"
      ]
    },
    {
      "cell_type": "markdown",
      "metadata": {
        "id": "Zy6UKJH8Q7Mh"
      },
      "source": [
        "Then we can check the presense of the hydrogen atoms:"
      ]
    },
    {
      "cell_type": "code",
      "execution_count": null,
      "metadata": {
        "colab": {
          "base_uri": "https://localhost:8080/"
        },
        "id": "EmzaadwBQ6dD",
        "outputId": "a0ffdd13-0e67-447e-8ff1-655e4edd15c4"
      },
      "outputs": [
        {
          "output_type": "stream",
          "name": "stdout",
          "text": [
            "Running rem_hydrogen.\n",
            "No residues with Hydrogen atoms found\n"
          ]
        }
      ],
      "source": [
        "st_c.rem_hydrogen()"
      ]
    },
    {
      "cell_type": "markdown",
      "metadata": {
        "id": "u6C0b6KTRJpb"
      },
      "source": [
        "We are also removing the water molecules (80 were found):"
      ]
    },
    {
      "cell_type": "code",
      "execution_count": null,
      "metadata": {
        "colab": {
          "base_uri": "https://localhost:8080/"
        },
        "id": "YPGGBwsDQ0Ah",
        "outputId": "71d620d8-992f-4a08-ecb1-027d0a05f765"
      },
      "outputs": [
        {
          "output_type": "stream",
          "name": "stdout",
          "text": [
            "Running water.\n",
            "80 Water molecules detected\n"
          ]
        }
      ],
      "source": [
        "st_c.water()"
      ]
    },
    {
      "cell_type": "code",
      "execution_count": null,
      "metadata": {
        "colab": {
          "base_uri": "https://localhost:8080/"
        },
        "id": "PNHdnEO0ROQl",
        "outputId": "b7d51e1f-e8af-40cc-fa43-07512cc422d2"
      },
      "outputs": [
        {
          "output_type": "stream",
          "name": "stdout",
          "text": [
            "Running water. Options: yes\n",
            "80 Water molecules detected\n",
            "80 Water molecules removed\n"
          ]
        }
      ],
      "source": [
        "st_c.water(\"yes\")"
      ]
    },
    {
      "cell_type": "markdown",
      "metadata": {
        "id": "xxQDQFXXRpkS"
      },
      "source": [
        "Now we can check for amides:"
      ]
    },
    {
      "cell_type": "code",
      "execution_count": null,
      "metadata": {
        "colab": {
          "base_uri": "https://localhost:8080/"
        },
        "id": "bbxKcGYMRRoV",
        "outputId": "e76201d6-6ce8-4b23-82cc-7c9ff6fc892e"
      },
      "outputs": [
        {
          "output_type": "stream",
          "name": "stdout",
          "text": [
            "Running amide.\n",
            "7 unusual contact(s) involving amide atoms found\n",
            " LYS A31.NZ   GLN E493.NE2    2.926 A\n",
            " GLN A42.NE2  GLN E498.NE2    2.927 A\n",
            " ASN A103.OD1 ASN A194.OD1    2.807 A\n",
            " ASN A134.OD1 GLU A140.OE2    2.785 A\n",
            " ASN A134.ND2 ASN A137.N      3.082 A\n",
            " GLU A150.O   ASN A154.OD1    2.895 A\n",
            " ARG E357.NH1 ASN E394.ND2    2.963 A\n"
          ]
        }
      ],
      "source": [
        "st_c.amide()"
      ]
    },
    {
      "cell_type": "code",
      "execution_count": null,
      "metadata": {
        "colab": {
          "base_uri": "https://localhost:8080/"
        },
        "id": "WLBPiq0zRvM4",
        "outputId": "07dfbfac-3269-402f-9b8a-2a191312e8dd"
      },
      "outputs": [
        {
          "output_type": "stream",
          "name": "stdout",
          "text": [
            "Running amide. Options: all\n",
            "7 unusual contact(s) involving amide atoms found\n",
            " LYS A31.NZ   GLN E493.NE2    2.926 A\n",
            " GLN A42.NE2  GLN E498.NE2    2.927 A\n",
            " ASN A103.OD1 ASN A194.OD1    2.807 A\n",
            " ASN A134.OD1 GLU A140.OE2    2.785 A\n",
            " ASN A134.ND2 ASN A137.N      3.082 A\n",
            " GLU A150.O   ASN A154.OD1    2.895 A\n",
            " ARG E357.NH1 ASN E394.ND2    2.963 A\n",
            "Amide residues fixed all (8)\n",
            "Rechecking\n",
            "4 unusual contact(s) involving amide atoms found\n",
            " GLN A42.OE1  GLN E498.OE1    2.927 A\n",
            " ASN A103.ND2 ASN A194.ND2    2.807 A\n",
            " ARG E357.NH1 ASN E394.ND2    3.022 A\n",
            " ASN E394.OD1 GLU E516.OE2    2.850 A\n"
          ]
        }
      ],
      "source": [
        "st_c.amide('all')"
      ]
    },
    {
      "cell_type": "code",
      "execution_count": null,
      "metadata": {
        "colab": {
          "base_uri": "https://localhost:8080/"
        },
        "id": "WENloI1GR3HM",
        "outputId": "2c0801b1-498f-42df-b5b4-f9e17a548d7d"
      },
      "outputs": [
        {
          "output_type": "stream",
          "name": "stdout",
          "text": [
            "Running amide.\n",
            "4 unusual contact(s) involving amide atoms found\n",
            " GLN A42.OE1  GLN E498.OE1    2.927 A\n",
            " ASN A103.ND2 ASN A194.ND2    2.807 A\n",
            " ARG E357.NH1 ASN E394.ND2    3.022 A\n",
            " ASN E394.OD1 GLU E516.OE2    2.850 A\n"
          ]
        }
      ],
      "source": [
        "st_c.amide()"
      ]
    },
    {
      "cell_type": "markdown",
      "metadata": {
        "id": "rejUJpCLTD9Q"
      },
      "source": [
        "As we can see, A42 and A103 were present in both checks as well as E394 which is involved in two interactions (with E516 and with E357). "
      ]
    },
    {
      "cell_type": "code",
      "execution_count": null,
      "metadata": {
        "colab": {
          "base_uri": "https://localhost:8080/"
        },
        "id": "XWyUBOeIS62A",
        "outputId": "9ae24e68-ef7f-4787-c391-04bf8bd1683e"
      },
      "outputs": [
        {
          "output_type": "stream",
          "name": "stdout",
          "text": [
            "Running amide. Options: A42,A103\n",
            "4 unusual contact(s) involving amide atoms found\n",
            " GLN A42.OE1  GLN E498.OE1    2.927 A\n",
            " ASN A103.ND2 ASN A194.ND2    2.807 A\n",
            " ARG E357.NH1 ASN E394.ND2    3.022 A\n",
            " ASN E394.OD1 GLU E516.OE2    2.850 A\n",
            "Amide residues fixed A42,A103 (2)\n",
            "Rechecking\n",
            "2 unusual contact(s) involving amide atoms found\n",
            " ARG E357.NH1 ASN E394.ND2    3.022 A\n",
            " ASN E394.OD1 GLU E516.OE2    2.850 A\n"
          ]
        }
      ],
      "source": [
        "st_c.amide('A42,A103')"
      ]
    },
    {
      "cell_type": "code",
      "execution_count": null,
      "metadata": {
        "colab": {
          "base_uri": "https://localhost:8080/"
        },
        "id": "uEDxSX-NS-F-",
        "outputId": "e3f2bb56-2cfb-4253-9cfb-d730a42eb9c8"
      },
      "outputs": [
        {
          "output_type": "stream",
          "name": "stdout",
          "text": [
            "Running amide. Options: E394\n",
            "2 unusual contact(s) involving amide atoms found\n",
            " ARG E357.NH1 ASN E394.ND2    3.022 A\n",
            " ASN E394.OD1 GLU E516.OE2    2.850 A\n",
            "Amide residues fixed E394 (1)\n",
            "Rechecking\n",
            "1 unusual contact(s) involving amide atoms found\n",
            " ARG E357.NH1 ASN E394.ND2    2.963 A\n"
          ]
        }
      ],
      "source": [
        "st_c.amide('E394')"
      ]
    },
    {
      "cell_type": "markdown",
      "metadata": {
        "id": "xxpLlxuyR1ii"
      },
      "source": [
        "Now we can check the chirality:"
      ]
    },
    {
      "cell_type": "code",
      "execution_count": null,
      "metadata": {
        "colab": {
          "base_uri": "https://localhost:8080/"
        },
        "id": "qlo4l-UJTtyx",
        "outputId": "2f3d9faa-948d-4725-c4a7-dc1a382c0505"
      },
      "outputs": [
        {
          "output_type": "stream",
          "name": "stdout",
          "text": [
            "Running chiral.\n",
            "No residues with incorrect side-chain chirality found\n"
          ]
        }
      ],
      "source": [
        "st_c.chiral()"
      ]
    },
    {
      "cell_type": "markdown",
      "metadata": {
        "id": "Gq2T0_bPUNEX"
      },
      "source": [
        "Here, we can check for backbone breaks or residues without backbone atoms."
      ]
    },
    {
      "cell_type": "code",
      "execution_count": null,
      "metadata": {
        "colab": {
          "base_uri": "https://localhost:8080/"
        },
        "id": "M1c7viGXT3Uo",
        "outputId": "f2222f3b-a0a0-4dba-8835-caffe9949198"
      },
      "outputs": [
        {
          "output_type": "stream",
          "name": "stdout",
          "text": [
            "Running backbone.\n",
            "2 Residues with missing backbone atoms found\n",
            " ASP A615   OXT\n",
            " GLY E526   OXT\n",
            "No backbone breaks\n",
            "No unexpected backbone links\n"
          ]
        }
      ],
      "source": [
        "st_c.backbone()"
      ]
    },
    {
      "cell_type": "code",
      "execution_count": null,
      "metadata": {
        "colab": {
          "base_uri": "https://localhost:8080/"
        },
        "id": "Fju-O9yUUBSE",
        "outputId": "014e5d93-c73f-45fb-b441-a41bf5cc5a45"
      },
      "outputs": [
        {
          "output_type": "stream",
          "name": "stdout",
          "text": [
            "Running backbone. Options: --fix_atoms All --fix_chain none --add_caps none\n",
            "2 Residues with missing backbone atoms found\n",
            " ASP A615   OXT\n",
            " GLY E526   OXT\n",
            "No backbone breaks\n",
            "No unexpected backbone links\n",
            "Capping terminal ends\n",
            "True terminal residues:  A19,A615,E333,E526\n",
            "No caps added\n",
            "Fixing missing backbone atoms\n",
            "Adding missing backbone atoms\n",
            "ASP A615\n",
            "  Adding new atom OXT\n",
            "GLY E526\n",
            "  Adding new atom OXT\n",
            "Fixed 2 backbone atom(s)\n",
            "Checking for steric clashes\n",
            "No severe clashes detected\n",
            "No apolar clashes detected\n",
            "No polar_acceptor clashes detected\n",
            "No polar_donor clashes detected\n",
            "No positive clashes detected\n",
            "No negative clashes detected\n"
          ]
        }
      ],
      "source": [
        "st_c.backbone('--fix_atoms All --fix_chain none --add_caps none')"
      ]
    },
    {
      "cell_type": "markdown",
      "metadata": {
        "id": "KyNiXh_PUVTs"
      },
      "source": [
        "As the result we found two residues with missing backbone atoms and we restored the corresponding backbone atoms."
      ]
    },
    {
      "cell_type": "markdown",
      "metadata": {
        "id": "ERyiyi1hUtHC"
      },
      "source": [
        "Now we check for missing sidechains:"
      ]
    },
    {
      "cell_type": "code",
      "execution_count": null,
      "metadata": {
        "colab": {
          "base_uri": "https://localhost:8080/"
        },
        "id": "aZXcI6oyU4Bk",
        "outputId": "1cf556b0-f7e1-41bd-f760-c8ab1c7350c7"
      },
      "outputs": [
        {
          "output_type": "stream",
          "name": "stdout",
          "text": [
            "Running fixside.\n",
            "No residues with missing or unknown side chain atoms found\n"
          ]
        }
      ],
      "source": [
        "st_c.fixside()"
      ]
    },
    {
      "cell_type": "markdown",
      "metadata": {
        "id": "JFhgttCvVHs6"
      },
      "source": [
        "Now we can check for disulfide bonds based on distances:"
      ]
    },
    {
      "cell_type": "code",
      "execution_count": null,
      "metadata": {
        "colab": {
          "base_uri": "https://localhost:8080/"
        },
        "id": "7XSaRjJjU6Ym",
        "outputId": "1f8fb7f1-6bd5-4acf-afce-fcdc6ca91a78"
      },
      "outputs": [
        {
          "output_type": "stream",
          "name": "stdout",
          "text": [
            "Running getss.\n",
            "7 Possible SS Bonds detected\n",
            " CYS A133.SG  CYS A141.SG     4.237\n",
            " CYS A344.SG  CYS A361.SG     4.159\n",
            " CYS A530.SG  CYS A542.SG     4.095\n",
            " CYS E336.SG  CYS E361.SG     4.152\n",
            " CYS E379.SG  CYS E432.SG     4.177\n",
            " CYS E391.SG  CYS E525.SG     4.191\n",
            " CYS E480.SG  CYS E488.SG     4.269\n"
          ]
        }
      ],
      "source": [
        "st_c.getss()"
      ]
    },
    {
      "cell_type": "code",
      "execution_count": null,
      "metadata": {
        "colab": {
          "base_uri": "https://localhost:8080/"
        },
        "id": "DerKcq9IVPQp",
        "outputId": "5b97f200-fc26-4956-df44-4256868d396a"
      },
      "outputs": [
        {
          "output_type": "stream",
          "name": "stdout",
          "text": [
            "Running getss. Options: all\n",
            "7 Possible SS Bonds detected\n",
            " CYS A133.SG  CYS A141.SG     4.237\n",
            " CYS A344.SG  CYS A361.SG     4.159\n",
            " CYS A530.SG  CYS A542.SG     4.095\n",
            " CYS E336.SG  CYS E361.SG     4.152\n",
            " CYS E379.SG  CYS E432.SG     4.177\n",
            " CYS E391.SG  CYS E525.SG     4.191\n",
            " CYS E480.SG  CYS E488.SG     4.269\n"
          ]
        }
      ],
      "source": [
        "st_c.getss('all')"
      ]
    },
    {
      "cell_type": "markdown",
      "metadata": {
        "id": "CxMKsVvlVUQc"
      },
      "source": [
        "We can now add H atoms making sure they are named in a consistent way:"
      ]
    },
    {
      "cell_type": "code",
      "execution_count": null,
      "metadata": {
        "colab": {
          "base_uri": "https://localhost:8080/"
        },
        "id": "bFWtfHVxWmVf",
        "outputId": "7791cae2-fcd9-4771-cf2a-eebf69f1223c"
      },
      "outputs": [
        {
          "output_type": "stream",
          "name": "stdout",
          "text": [
            "Running add_hydrogen.\n",
            "226 Residues requiring selection on adding H atoms\n",
            " CYS A261,A498\n",
            " ASP A30,A38,A67,A111,A136,A157,A198,A201,A206,A213,A216,A225,A269,A292,A295,A299,A303,A335,A350,A355,A367,A368,A382,A427,A431,A471,A494,A499,A509,A543,A597,A609,A615,E364,E389,E398,E405,E420,E427,E428,E442,E467\n",
            " GLU A22,A23,A35,A37,A56,A57,A75,A87,A110,A140,A145,A150,A160,A166,A171,A181,A182,A189,A197,A208,A224,A227,A231,A232,A238,A310,A312,A329,A375,A398,A402,A406,A430,A433,A435,A457,A467,A479,A483,A489,A495,A527,A536,A549,A564,A571,A589,E340,E406,E465,E471,E484,E516\n",
            " HIS A34,A195,A228,A239,A241,A265,A345,A373,A374,A378,A401,A417,A493,A505,A535,A540,E519\n",
            " LYS A26,A31,A68,A74,A94,A112,A114,A131,A174,A187,A234,A247,A288,A309,A313,A341,A353,A363,A416,A419,A441,A458,A465,A470,A475,A476,A481,A534,A541,A553,A562,A577,A596,A600,E356,E378,E386,E417,E424,E444,E458,E462\n",
            " ARG A115,A161,A169,A177,A192,A204,A219,A245,A273,A306,A357,A393,A460,A482,A514,A518,A559,A582,E346,E355,E357,E403,E408,E454,E457,E466,E509\n",
            " TYR A41,A50,A83,A127,A158,A180,A183,A196,A199,A202,A207,A215,A217,A237,A243,A252,A255,A279,A381,A385,A454,A497,A510,A515,A516,A521,A587,A613,E351,E365,E369,E380,E396,E421,E423,E449,E451,E453,E473,E489,E495,E505,E508\n"
          ]
        }
      ],
      "source": [
        "st_c.add_hydrogen()"
      ]
    },
    {
      "cell_type": "code",
      "execution_count": null,
      "metadata": {
        "colab": {
          "base_uri": "https://localhost:8080/"
        },
        "id": "xCnlSIMsWmm9",
        "outputId": "c13c2f20-f3c2-4ef1-af54-1453a8a00769"
      },
      "outputs": [
        {
          "output_type": "stream",
          "name": "stdout",
          "text": [
            "Running add_hydrogen. Options: auto\n",
            "226 Residues requiring selection on adding H atoms\n",
            " CYS A261,A498\n",
            " ASP A30,A38,A67,A111,A136,A157,A198,A201,A206,A213,A216,A225,A269,A292,A295,A299,A303,A335,A350,A355,A367,A368,A382,A427,A431,A471,A494,A499,A509,A543,A597,A609,A615,E364,E389,E398,E405,E420,E427,E428,E442,E467\n",
            " GLU A22,A23,A35,A37,A56,A57,A75,A87,A110,A140,A145,A150,A160,A166,A171,A181,A182,A189,A197,A208,A224,A227,A231,A232,A238,A310,A312,A329,A375,A398,A402,A406,A430,A433,A435,A457,A467,A479,A483,A489,A495,A527,A536,A549,A564,A571,A589,E340,E406,E465,E471,E484,E516\n",
            " HIS A34,A195,A228,A239,A241,A265,A345,A373,A374,A378,A401,A417,A493,A505,A535,A540,E519\n",
            " LYS A26,A31,A68,A74,A94,A112,A114,A131,A174,A187,A234,A247,A288,A309,A313,A341,A353,A363,A416,A419,A441,A458,A465,A470,A475,A476,A481,A534,A541,A553,A562,A577,A596,A600,E356,E378,E386,E417,E424,E444,E458,E462\n",
            " ARG A115,A161,A169,A177,A192,A204,A219,A245,A273,A306,A357,A393,A460,A482,A514,A518,A559,A582,E346,E355,E357,E403,E408,E454,E457,E466,E509\n",
            " TYR A41,A50,A83,A127,A158,A180,A183,A196,A199,A202,A207,A215,A217,A237,A243,A252,A255,A279,A381,A385,A454,A497,A510,A515,A516,A521,A587,A613,E351,E365,E369,E380,E396,E421,E423,E449,E451,E453,E473,E489,E495,E505,E508\n",
            "WARNING: fixing side chains, override with --no_fix_side\n",
            "Running fixside. Options: --fix all\n",
            "Warning: unknown residue CYX\n",
            "Warning: unknown residue CYX\n",
            "Warning: unknown residue CYX\n",
            "Warning: unknown residue CYX\n",
            "Warning: unknown residue CYX\n",
            "Warning: unknown residue CYX\n",
            "Warning: unknown residue CYX\n",
            "Warning: unknown residue CYX\n",
            "Warning: unknown residue CYX\n",
            "Warning: unknown residue CYX\n",
            "Warning: unknown residue CYX\n",
            "Warning: unknown residue CYX\n",
            "Warning: unknown residue CYX\n",
            "Warning: unknown residue CYX\n",
            "No residues with missing or unknown side chain atoms found\n",
            "Selection: auto\n",
            "Replacing HIS A34 by HIE\n",
            "Replacing HIS A195 by HIE\n",
            "Replacing HIS A228 by HIE\n",
            "Replacing HIS A239 by HIE\n",
            "Replacing HIS A241 by HIE\n",
            "Replacing HIS A265 by HIE\n",
            "Replacing HIS A345 by HIE\n",
            "Replacing HIS A373 by HIE\n",
            "Replacing HIS A374 by HIE\n",
            "Replacing HIS A378 by HIE\n",
            "Replacing HIS A401 by HIE\n",
            "Replacing HIS A417 by HIE\n",
            "Replacing HIS A493 by HIE\n",
            "Replacing HIS A505 by HIE\n",
            "Replacing HIS A535 by HIE\n",
            "Replacing HIS A540 by HIE\n",
            "Replacing HIS E519 by HIE\n"
          ]
        }
      ],
      "source": [
        "st_c.add_hydrogen('auto')"
      ]
    },
    {
      "cell_type": "markdown",
      "metadata": {
        "id": "KDX51bLFXFhw"
      },
      "source": [
        "Then in the end we can check if there are any clashes in the structure based on the distance criteria:\n",
        "There some clashes found but none of them are severe."
      ]
    },
    {
      "cell_type": "code",
      "execution_count": null,
      "metadata": {
        "colab": {
          "base_uri": "https://localhost:8080/"
        },
        "id": "yhobqzQEXSg5",
        "outputId": "30839815-f441-4b6a-82e0-eca472494d58"
      },
      "outputs": [
        {
          "output_type": "stream",
          "name": "stdout",
          "text": [
            "Running clashes.\n",
            "No severe clashes detected\n",
            "4 Steric apolar clashes detected\n",
            " HIE A34.CD2  TYR E453.OH     2.860 A\n",
            " ASN A121.O   THR A125.CG2    2.890 A\n",
            " LEU A333.C   MET A360.O      2.881 A\n",
            " TYR E380.O   THR E430.C      2.758 A\n",
            "5 Steric polar_acceptor clashes detected\n",
            " MET A152.O   GLY A268.O      3.063 A\n",
            " LEU A333.O   MET A360.O      2.881 A\n",
            " TYR E351.O   ASP E467.O      3.074 A\n",
            " TYR E380.O   THR E430.O      2.728 A\n",
            " GLY E485.O   CYX E488.O      3.046 A\n",
            "1 Steric polar_donor clashes detected\n",
            " ARG E357.NH1 ASN E394.ND2    2.963 A\n",
            "No positive clashes detected\n",
            "No negative clashes detected\n"
          ]
        }
      ],
      "source": [
        "st_c.clashes()"
      ]
    },
    {
      "cell_type": "markdown",
      "metadata": {
        "id": "lAaWq6aqXuRg"
      },
      "source": [
        "Checking everything last time:"
      ]
    },
    {
      "cell_type": "code",
      "execution_count": null,
      "metadata": {
        "colab": {
          "base_uri": "https://localhost:8080/"
        },
        "id": "6zYigAHoXU43",
        "outputId": "2a41ec82-d5e5-42f0-cd08-ed0965f2e4ba"
      },
      "outputs": [
        {
          "output_type": "stream",
          "name": "stdout",
          "text": [
            "Running models.\n",
            "1 Model(s) detected\n",
            "Single model found\n",
            "Running chains.\n",
            "2 Chain(s) detected\n",
            " A: Protein\n",
            " E: Protein\n",
            "Running inscodes.\n",
            "No residues with insertion codes found\n",
            "Running altloc.\n",
            "No residues with alternative location labels detected\n",
            "Running rem_hydrogen.\n",
            "791 Residues containing H atoms detected\n",
            "Running add_hydrogen.\n",
            "209 Residues requiring selection on adding H atoms\n",
            " CYS A261,A498\n",
            " ASP A30,A38,A67,A111,A136,A157,A198,A201,A206,A213,A216,A225,A269,A292,A295,A299,A303,A335,A350,A355,A367,A368,A382,A427,A431,A471,A494,A499,A509,A543,A597,A609,A615,E364,E389,E398,E405,E420,E427,E428,E442,E467\n",
            " GLU A22,A23,A35,A37,A56,A57,A75,A87,A110,A140,A145,A150,A160,A166,A171,A181,A182,A189,A197,A208,A224,A227,A231,A232,A238,A310,A312,A329,A375,A398,A402,A406,A430,A433,A435,A457,A467,A479,A483,A489,A495,A527,A536,A549,A564,A571,A589,E340,E406,E465,E471,E484,E516\n",
            " LYS A26,A31,A68,A74,A94,A112,A114,A131,A174,A187,A234,A247,A288,A309,A313,A341,A353,A363,A416,A419,A441,A458,A465,A470,A475,A476,A481,A534,A541,A553,A562,A577,A596,A600,E356,E378,E386,E417,E424,E444,E458,E462\n",
            " ARG A115,A161,A169,A177,A192,A204,A219,A245,A273,A306,A357,A393,A460,A482,A514,A518,A559,A582,E346,E355,E357,E403,E408,E454,E457,E466,E509\n",
            " TYR A41,A50,A83,A127,A158,A180,A183,A196,A199,A202,A207,A215,A217,A237,A243,A252,A255,A279,A381,A385,A454,A497,A510,A515,A516,A521,A587,A613,E351,E365,E369,E380,E396,E421,E423,E449,E451,E453,E473,E489,E495,E505,E508\n",
            "Running water.\n",
            "No water molecules found\n",
            "Running metals.\n",
            "No metal ions found\n",
            "Running ligands.\n",
            "No ligands found\n",
            "Running getss.\n",
            "7 Possible SS Bonds detected\n",
            " CYX A133.SG  CYX A141.SG     4.237\n",
            " CYX A344.SG  CYX A361.SG     4.159\n",
            " CYX A530.SG  CYX A542.SG     4.095\n",
            " CYX E336.SG  CYX E361.SG     4.152\n",
            " CYX E379.SG  CYX E432.SG     4.177\n",
            " CYX E391.SG  CYX E525.SG     4.191\n",
            " CYX E480.SG  CYX E488.SG     4.269\n",
            "Running amide.\n",
            "1 unusual contact(s) involving amide atoms found\n",
            " ARG E357.NH1 ASN E394.ND2    2.963 A\n",
            "Running chiral.\n",
            "No residues with incorrect side-chain chirality found\n",
            "Running chiral_bck.\n",
            "No residues with incorrect backbone chirality found\n",
            "Running fixside.\n",
            "Warning: unknown residue NSER\n",
            "Warning: unknown residue HIE\n",
            "Warning: unknown residue CYX\n",
            "Warning: unknown residue CYX\n",
            "Warning: unknown residue HIE\n",
            "Warning: unknown residue HIE\n",
            "Warning: unknown residue HIE\n",
            "Warning: unknown residue HIE\n",
            "Warning: unknown residue HIE\n",
            "Warning: unknown residue CYX\n",
            "Warning: unknown residue HIE\n",
            "Warning: unknown residue CYX\n",
            "Warning: unknown residue HIE\n",
            "Warning: unknown residue HIE\n",
            "Warning: unknown residue HIE\n",
            "Warning: unknown residue HIE\n",
            "Warning: unknown residue HIE\n",
            "Warning: unknown residue HIE\n",
            "Warning: unknown residue HIE\n",
            "Warning: unknown residue CYX\n",
            "Warning: unknown residue HIE\n",
            "Warning: unknown residue HIE\n",
            "Warning: unknown residue CYX\n",
            "Warning: unknown residue NTHR\n",
            "Warning: unknown residue CYX\n",
            "Warning: unknown residue CYX\n",
            "Warning: unknown residue CYX\n",
            "Warning: unknown residue CYX\n",
            "Warning: unknown residue CYX\n",
            "Warning: unknown residue CYX\n",
            "Warning: unknown residue CYX\n",
            "Warning: unknown residue HIE\n",
            "Warning: unknown residue CYX\n",
            "No residues with missing or unknown side chain atoms found\n",
            "Running backbone.\n",
            "No residues with missing backbone atoms found\n",
            "No backbone breaks\n",
            "No unexpected backbone links\n",
            "Running cistransbck.\n",
            "1 cis peptide bonds\n",
            "GLU A145   PRO A146   Dihedral:    4.808\n",
            "No trans peptide bonds with unusual omega dihedrals found\n",
            "Running clashes.\n",
            "No severe clashes detected\n",
            "4 Steric apolar clashes detected\n",
            " HIE A34.CD2  TYR E453.OH     2.860 A\n",
            " ASN A121.O   THR A125.CG2    2.890 A\n",
            " LEU A333.C   MET A360.O      2.881 A\n",
            " TYR E380.O   THR E430.C      2.758 A\n",
            "5 Steric polar_acceptor clashes detected\n",
            " MET A152.O   GLY A268.O      3.063 A\n",
            " LEU A333.O   MET A360.O      2.881 A\n",
            " TYR E351.O   ASP E467.O      3.074 A\n",
            " TYR E380.O   THR E430.O      2.728 A\n",
            " GLY E485.O   CYX E488.O      3.046 A\n",
            "1 Steric polar_donor clashes detected\n",
            " ARG E357.NH1 ASN E394.ND2    2.963 A\n",
            "No positive clashes detected\n",
            "No negative clashes detected\n",
            "Running sequences.\n",
            "Canonical sequence\n",
            ">can_sq_A canonical sequence chain A\n",
            "STIEEQAKTFLDKFNHEAEDLFYQSSLASWNYNTNITEENVQNMNNAGDKWSAFLKEQST\n",
            "LAQMYPLQEIQNLTVKLQLQALQQNGSSVLSEDKSKRLNTILNTMSTIYSTGKVCNPDNP\n",
            "QECLLLEPGLNEIMANSLDYNERLWAWESWRSEVGKQLRPLYEEYVVLKNEMARANHYED\n",
            "YGDYWRGDYEVNGVDGYDYSRGQLIEDVEHTFEEIKPLYEHLHAYVRAKLMNAYPSYISP\n",
            "IGCLPAHLLGDMWGRFWTNLYSLTVPFGQKPNIDVTDAMVDQAWDAQRIFKEAEKFFVSV\n",
            "GLPNMTQGFWENSMLTDPGNVQKAVCHPTAWDLGKGDFRILMCTKVTMDDFLTAHHEMGH\n",
            "IQYDMAYAAQPFLLRNGANEGFHEAVGEIMSLSAATPKHLKSIGLLSPDFQEDNETEINF\n",
            "LLKQALTIVGTLPFTYMLEKWRWMVFKGEIPKDQWMKKWWEMKREIVGVVEPVPHDETYC\n",
            "DPASLFHVSNDYSFIRYYTRTLYQFQFQEALCQAAKHEGPLHKCDISNSTEAGQKLFNML\n",
            "RLGKSEPWTLALENVVGAKNMNVRPLLNYFEPLFTWLKDQNKNSFVGWSTDWSPYADHHH\n",
            "HHH\n",
            ">can_sq_E canonical sequence chain E\n",
            "RVQPTESIVRFPNITNLCPFGEVFNATRFASVYAWNRKRISNCVADYSVLYNSASFSTFK\n",
            "CYGVSPTKLNDLCFTNVYADSFVIRGDEVRQIAPGQTGKIADYNYKLPDDFTGCVIAWNS\n",
            "NNLDSKVGGNYNYLYRLFRKSNLKPFERDISTEIYQAGSTPCNGVEGFNCYFPLQSYGFQ\n",
            "PTNGVGYQPYRVVVLSFELLHAPATVCGPKKSTNLVKNKCVNFHHHHHH\n",
            "\n",
            "Structure sequence\n",
            ">pdb_sq_A Frags: 134-140,142-343,345-360,362-529,531-541,543-615\n",
            "STIEEQAKTFLDKFNHEAEDLFYQSSLASWNYNTNITEENVQNMNNAGDKWSAFLKEQST\n",
            "LAQMYPLQEIQNLTVKLQLQALQQNGSSVLSEDKSKRLNTILNTMSTIYSTGKV-NPDNP\n",
            "QE-LLLEPGLNEIMANSLDYNERLWAWESWRSEVGKQLRPLYEEYVVLKNEMARANHYED\n",
            "YGDYWRGDYEVNGVDGYDYSRGQLIEDVEHTFEEIKPLYEHLHAYVRAKLMNAYPSYISP\n",
            "IGCLPAHLLGDMWGRFWTNLYSLTVPFGQKPNIDVTDAMVDQAWDAQRIFKEAEKFFVSV\n",
            "GLPNMTQGFWENSMLTDPGNVQKAV-HPTAWDLGKGDFRILM-TKVTMDDFLTAHHEMGH\n",
            "IQYDMAYAAQPFLLRNGANEGFHEAVGEIMSLSAATPKHLKSIGLLSPDFQEDNETEINF\n",
            "LLKQALTIVGTLPFTYMLEKWRWMVFKGEIPKDQWMKKWWEMKREIVGVVEPVPHDETYC\n",
            "DPASLFHVSNDYSFIRYYTRTLYQFQFQEAL-QAAKHEGPLHK-DISNSTEAGQKLFNML\n",
            "RLGKSEPWTLALENVVGAKNMNVRPLLNYFEPLFTWLKDQNKNSFVGWSTDWSPYAD---\n",
            "---\n",
            ">pdb_sq_E Frags: 337-360,362-378,380-390,392-431,433-479,481-487,489-524\n",
            "---------------TNLPFGEVFNATRFASVYAWNRKRISN-VADYSVLYNSASFSTFK\n",
            "-YGVSPTKLNDL-FTNVYADSFVIRGDEVRQIAPGQTGKIADYNYKLPDDFTG-VIAWNS\n",
            "NNLDSKVGGNYNYLYRLFRKSNLKPFERDISTEIYQAGSTP-NGVEGFN-YFPLQSYGFQ\n",
            "PTNGVGYQPYRVVVLSFELLHAPATV-----------------------\n",
            "\n"
          ]
        }
      ],
      "source": [
        "st_c.checkall()"
      ]
    },
    {
      "cell_type": "code",
      "execution_count": null,
      "metadata": {
        "colab": {
          "base_uri": "https://localhost:8080/",
          "height": 35
        },
        "id": "64P693s5X93n",
        "outputId": "323883dd-83ee-4460-e7e1-26ae392680f1"
      },
      "outputs": [
        {
          "output_type": "execute_result",
          "data": {
            "text/plain": [
              "'./6m0j_fixed.pdb'"
            ],
            "application/vnd.google.colaboratory.intrinsic+json": {
              "type": "string"
            }
          },
          "metadata": {},
          "execution_count": 107
        }
      ],
      "source": [
        "st_c._save_structure(args['output_structure_path'])"
      ]
    },
    {
      "cell_type": "markdown",
      "metadata": {
        "id": "BgZaN02ZY7-N"
      },
      "source": [
        "## Step 1 - indentifying the interface residues on each chain"
      ]
    },
    {
      "cell_type": "markdown",
      "source": [
        "### Data libraries preparation"
      ],
      "metadata": {
        "id": "0Ntxpft-Wadm"
      }
    },
    {
      "cell_type": "code",
      "source": [
        "class ResiduesDataLib(): # downloading the parameters library\n",
        "    def __init__(self, fname):\n",
        "        self.residue_data = {}\n",
        "        try:\n",
        "            fh = open(fname, \"r\")\n",
        "        except OSError:\n",
        "            print(\"#ERROR while loading library file (\", fname, \")\")\n",
        "            sys.exit(2)\n",
        "        for line in fh:\n",
        "            if line[0] == '#':\n",
        "                continue\n",
        "            data = line.split()\n",
        "            r = Residue(data)\n",
        "            self.residue_data[r.id] = r\n",
        "        self.nres = len(self.residue_data)\n",
        "\n",
        "    def get_params(self, resid, atid):\n",
        "        atom_id = resid + ':' + atid\n",
        "        if atom_id in self.residue_data:\n",
        "            return self.residue_data[atom_id]\n",
        "        else:\n",
        "            print(\"WARNING: atom not found in library (\", atom_id, ')')\n",
        "            return None\n",
        "\n",
        "class Residue():\n",
        "    def __init__(self,data):\n",
        "        self.id     = data[0]+':'+data[1]\n",
        "        self.at_type = data[2]\n",
        "        self.charge  = float(data[3])\n",
        "        \n",
        "class AtomType():\n",
        "    def __init__(self, data):\n",
        "        self.id   = data[0]\n",
        "        self.eps  = float(data[1])\n",
        "        self.sig  = float(data[2])\n",
        "        self.mass = float(data[3])\n",
        "        self.fsrf = float(data[4])\n",
        "        self.rvdw = self.sig * 0.5612\n",
        "        \n",
        "class VdwParamset(): #extracted from GELPI's github\n",
        "    #parameters for the VdW\n",
        "    def __init__ (self, file_name):\n",
        "        self.at_types = {}\n",
        "        try:\n",
        "            fh = open(file_name, \"r\")\n",
        "        except OSError:\n",
        "            print (\"#ERROR while loading parameter file (\", file_name, \")\")\n",
        "            sys.exit(2)\n",
        "        for line in fh:\n",
        "            if line[0] == '#':\n",
        "                continue\n",
        "            data = line.split()\n",
        "            self.at_types[data[0]] = AtomType(data)\n",
        "        self.ntypes = len(self.at_types)\n",
        "        fh.close()"
      ],
      "metadata": {
        "id": "snlDSNjuVCv0"
      },
      "execution_count": null,
      "outputs": []
    },
    {
      "cell_type": "code",
      "source": [
        "!git clone https://github.com/checheanya/ESCI_git"
      ],
      "metadata": {
        "colab": {
          "base_uri": "https://localhost:8080/"
        },
        "id": "yXBSRRRkXc_E",
        "outputId": "c015bae2-8297-48b8-dbe4-782e4e67bb95"
      },
      "execution_count": null,
      "outputs": [
        {
          "output_type": "stream",
          "name": "stdout",
          "text": [
            "fatal: destination path 'ESCI_git' already exists and is not an empty directory.\n"
          ]
        }
      ]
    },
    {
      "cell_type": "code",
      "source": [
        "!cat './ESCI_git/raw_data/params_vdw'"
      ],
      "metadata": {
        "colab": {
          "base_uri": "https://localhost:8080/"
        },
        "id": "vOZsgzBFgk1j",
        "outputId": "98e73fb7-b485-4884-b819-176d54554cef"
      },
      "execution_count": null,
      "outputs": [
        {
          "output_type": "stream",
          "name": "stdout",
          "text": [
            "#TYPE Eps Sigm Mass  fsrf\r\n",
            "CR 0.09 3.40 12.00  0.111 Aromatic C\r\n",
            "C  0.09 3.40 12.00  0.019 Alifatic C\r\n",
            "NC 0.17 3.25 14.00 -0.126 Charged N\r\n",
            "NR 0.17 3.25 14.00 -0.063 Arginine N\r\n",
            "N  0.17 3.25 14.00 -0.124\r\n",
            "P  0.20 3.74 31.00  0.000\r\n",
            "S  0.25 3.56 32.00  0.026\r\n",
            "HW 0.00 0.00  1.01  0.000 H Wat TIP3P\r\n",
            "HO 0.00 0.00  1.01  0.000 H-O \r\n",
            "HN 0.02 1.07  1.01  0.000 H-N H-S\r\n",
            "H  0.02 2.65  1.01  0.000 H-C\r\n",
            "OW 0.15 3.15 16.00 -0.043 O Wat TIP3P\r\n",
            "OH 0.21 2.96 16.00 -0.043 OH\r\n",
            "OC 0.21 2.96 16.00 -0.069 COO-\r\n",
            "O  0.21 2.96 16.00 -0.031 "
          ]
        }
      ]
    },
    {
      "cell_type": "code",
      "source": [
        "# loading residue library from data/aaLib.lib\n",
        "residue_library = ResiduesDataLib('./ESCI_git/raw_data/aaLib.lib')"
      ],
      "metadata": {
        "id": "LgN_3QZYWvp8"
      },
      "execution_count": null,
      "outputs": []
    },
    {
      "cell_type": "code",
      "source": [
        "# loading VdW parameters\n",
        "ff_params = VdwParamset('./ESCI_git/raw_data/params_vdw')"
      ],
      "metadata": {
        "id": "uME0TWU_WR5u"
      },
      "execution_count": null,
      "outputs": []
    },
    {
      "cell_type": "code",
      "source": [
        "parser = PDBParser()\n",
        "io = PDBIO()\n",
        "structure = parser.get_structure('X', './6m0j_fixed.pdb')"
      ],
      "metadata": {
        "id": "7GXqlRw_G7j4"
      },
      "execution_count": null,
      "outputs": []
    },
    {
      "cell_type": "code",
      "source": [
        "def add_atom_parameters(st, res_lib, ff_params):\n",
        "    ''' Adds parameters from libraries to atom .xtra field\n",
        "        For not recognized atoms, issues a warning and put default parameters\n",
        "    '''\n",
        "    for at in st.get_atoms():\n",
        "        resname = at.get_parent().get_resname()\n",
        "        params = res_lib.get_params(resname, at.id)\n",
        "        if not params:\n",
        "            print(at)\n",
        "            #print(\"WARNING: residue/atom pair not in library (\"+atom_id(at) + ')')\n",
        "            at.xtra['atom_type'] = at.element\n",
        "            at.xtra['charge'] = 0\n",
        "        else:\n",
        "            at.xtra['atom_type'] = params.at_type\n",
        "            at.xtra['charge'] = params.charge\n",
        "        at.xtra['vdw'] = ff_params.at_types[at.xtra['atom_type']]"
      ],
      "metadata": {
        "id": "RgXtZm6AKyhs"
      },
      "execution_count": null,
      "outputs": []
    },
    {
      "cell_type": "markdown",
      "source": [],
      "metadata": {
        "id": "iiKjLvM1pytT"
      }
    },
    {
      "cell_type": "markdown",
      "source": [
        "We can see that the function below gives us some warnings about residue labrary: HIS, NAG, Zn, Cl. This issue arised because there are some other names for differently charged residues in the library (HIE for histidine with d+ on carbon epsilon, HID for histidine with d+ on carbon delta, HIP for positively charges). Since we have histidine in our interaction group, we added HIS with energies for the positive version of molecule supposing that we have it our structure. We can ignore other warnings, because we don't have these molecules in our residue list. "
      ],
      "metadata": {
        "id": "bSHxf_KvP6L-"
      }
    },
    {
      "cell_type": "code",
      "source": [
        "add_atom_parameters(structure, residue_library, ff_params)\n"
      ],
      "metadata": {
        "id": "d7gHpeXsaHQE",
        "colab": {
          "base_uri": "https://localhost:8080/"
        },
        "outputId": "5db8b755-04d9-4c28-dcbf-307a10120afe"
      },
      "execution_count": null,
      "outputs": [
        {
          "output_type": "stream",
          "name": "stdout",
          "text": [
            "WARNING: atom not found in library ( SER:H1 )\n",
            "<Atom H1>\n",
            "WARNING: atom not found in library ( SER:H2 )\n",
            "<Atom H2>\n",
            "WARNING: atom not found in library ( SER:H3 )\n",
            "<Atom H3>\n",
            "WARNING: atom not found in library ( ASP:OXT )\n",
            "<Atom OXT>\n",
            "WARNING: atom not found in library ( THR:H1 )\n",
            "<Atom H1>\n",
            "WARNING: atom not found in library ( THR:H2 )\n",
            "<Atom H2>\n",
            "WARNING: atom not found in library ( THR:H3 )\n",
            "<Atom H3>\n",
            "WARNING: atom not found in library ( GLY:OXT )\n",
            "<Atom OXT>\n"
          ]
        }
      ]
    },
    {
      "cell_type": "markdown",
      "source": [
        "### Interface identification"
      ],
      "metadata": {
        "id": "cJbQi6_ktckv"
      }
    },
    {
      "cell_type": "code",
      "source": [
        "all_atoms_A = []\n",
        "for res in structure[0][\"A\"]:\n",
        "    all_atoms_A += [i for i in res.get_atoms()]"
      ],
      "metadata": {
        "id": "cfkpr_q1QUy_"
      },
      "execution_count": null,
      "outputs": []
    },
    {
      "cell_type": "code",
      "source": [
        "all_atoms_E = []\n",
        "for res in structure[0][\"E\"]:\n",
        "    all_atoms_E += [i for i in res.get_atoms()]"
      ],
      "metadata": {
        "id": "q6tsQmRmRKHh"
      },
      "execution_count": null,
      "outputs": []
    },
    {
      "cell_type": "code",
      "source": [
        "max_dist = 6\n",
        "interaction_set_A = set()\n",
        "interaction_set_E = set()\n",
        "for atom_A in all_atoms_A:\n",
        "    for atom_E in all_atoms_E:\n",
        "        dist = atom_A - atom_E\n",
        "        if dist <= max_dist:\n",
        "            interaction_set_A.add(atom_A.get_parent())\n",
        "            interaction_set_E.add(atom_E.get_parent())"
      ],
      "metadata": {
        "id": "EAoN1YZqLm3y"
      },
      "execution_count": null,
      "outputs": []
    },
    {
      "cell_type": "code",
      "source": [
        "interaction_set_A"
      ],
      "metadata": {
        "colab": {
          "base_uri": "https://localhost:8080/"
        },
        "id": "AYLVzkxVVOGA",
        "outputId": "28af08e8-fbee-4dc9-c539-39d88ab58617"
      },
      "execution_count": null,
      "outputs": [
        {
          "output_type": "execute_result",
          "data": {
            "text/plain": [
              "{<Residue SER het=  resseq=19 icode= >,\n",
              " <Residue THR het=  resseq=20 icode= >,\n",
              " <Residue ILE het=  resseq=21 icode= >,\n",
              " <Residue GLU het=  resseq=23 icode= >,\n",
              " <Residue GLN het=  resseq=24 icode= >,\n",
              " <Residue ALA het=  resseq=25 icode= >,\n",
              " <Residue LYS het=  resseq=26 icode= >,\n",
              " <Residue THR het=  resseq=27 icode= >,\n",
              " <Residue PHE het=  resseq=28 icode= >,\n",
              " <Residue LEU het=  resseq=29 icode= >,\n",
              " <Residue ASP het=  resseq=30 icode= >,\n",
              " <Residue LYS het=  resseq=31 icode= >,\n",
              " <Residue PHE het=  resseq=32 icode= >,\n",
              " <Residue ASN het=  resseq=33 icode= >,\n",
              " <Residue HIE het=  resseq=34 icode= >,\n",
              " <Residue GLU het=  resseq=35 icode= >,\n",
              " <Residue GLU het=  resseq=37 icode= >,\n",
              " <Residue ASP het=  resseq=38 icode= >,\n",
              " <Residue LEU het=  resseq=39 icode= >,\n",
              " <Residue TYR het=  resseq=41 icode= >,\n",
              " <Residue GLN het=  resseq=42 icode= >,\n",
              " <Residue LEU het=  resseq=45 icode= >,\n",
              " <Residue ASN het=  resseq=49 icode= >,\n",
              " <Residue GLN het=  resseq=76 icode= >,\n",
              " <Residue THR het=  resseq=78 icode= >,\n",
              " <Residue LEU het=  resseq=79 icode= >,\n",
              " <Residue ALA het=  resseq=80 icode= >,\n",
              " <Residue GLN het=  resseq=81 icode= >,\n",
              " <Residue MET het=  resseq=82 icode= >,\n",
              " <Residue TYR het=  resseq=83 icode= >,\n",
              " <Residue THR het=  resseq=324 icode= >,\n",
              " <Residue GLN het=  resseq=325 icode= >,\n",
              " <Residue GLY het=  resseq=326 icode= >,\n",
              " <Residue GLU het=  resseq=329 icode= >,\n",
              " <Residue ASN het=  resseq=330 icode= >,\n",
              " <Residue LEU het=  resseq=351 icode= >,\n",
              " <Residue GLY het=  resseq=352 icode= >,\n",
              " <Residue LYS het=  resseq=353 icode= >,\n",
              " <Residue GLY het=  resseq=354 icode= >,\n",
              " <Residue ASP het=  resseq=355 icode= >,\n",
              " <Residue PHE het=  resseq=356 icode= >,\n",
              " <Residue ARG het=  resseq=357 icode= >,\n",
              " <Residue ALA het=  resseq=386 icode= >,\n",
              " <Residue ALA het=  resseq=387 icode= >,\n",
              " <Residue ARG het=  resseq=393 icode= >}"
            ]
          },
          "metadata": {},
          "execution_count": 119
        }
      ]
    },
    {
      "cell_type": "code",
      "source": [
        "len(interaction_set_A)"
      ],
      "metadata": {
        "colab": {
          "base_uri": "https://localhost:8080/"
        },
        "id": "usNAPROnFzzV",
        "outputId": "b478fb89-bd92-47af-bfaf-dc0d28a7a7c1"
      },
      "execution_count": null,
      "outputs": [
        {
          "output_type": "execute_result",
          "data": {
            "text/plain": [
              "45"
            ]
          },
          "metadata": {},
          "execution_count": 160
        }
      ]
    },
    {
      "cell_type": "code",
      "source": [
        "len(interaction_set_E)"
      ],
      "metadata": {
        "colab": {
          "base_uri": "https://localhost:8080/"
        },
        "id": "4nCBkMRlF2k7",
        "outputId": "ad473a34-e933-45d0-85db-b4cc3c679c28"
      },
      "execution_count": null,
      "outputs": [
        {
          "output_type": "execute_result",
          "data": {
            "text/plain": [
              "38"
            ]
          },
          "metadata": {},
          "execution_count": 161
        }
      ]
    },
    {
      "cell_type": "markdown",
      "source": [
        "![Screenshot 2022-11-11 163938.jpg](data:image/jpeg;base64,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)"
      ],
      "metadata": {
        "id": "5ny3EdciWOFe"
      }
    },
    {
      "cell_type": "markdown",
      "source": [
        "## Step 2 - calculating energies"
      ],
      "metadata": {
        "id": "MvPsUkwFKuLx"
      }
    },
    {
      "cell_type": "markdown",
      "source": [
        "### Van-der-Waals interaction"
      ],
      "metadata": {
        "id": "sXbj5-0HYeeC"
      }
    },
    {
      "cell_type": "code",
      "source": [
        "import math\n",
        "\n",
        "def vdw_int(at1, at2, r):\n",
        "  eps12 = math.sqrt(at1.xtra[\"vdw\"].eps * at2.xtra[\"vdw\"].eps)\n",
        "  sig12_2 = at1.xtra[\"vdw\"].sig * at2.xtra[\"vdw\"].sig\n",
        "  return 4 * eps12 * (sig12_2*6/r**12 - sig12_2**3/r**6)"
      ],
      "metadata": {
        "id": "NcQ0Om9LZsqv"
      },
      "execution_count": null,
      "outputs": []
    },
    {
      "cell_type": "markdown",
      "source": [
        "### Electrostatic energy"
      ],
      "metadata": {
        "id": "uQz3U0tBYRfB"
      }
    },
    {
      "cell_type": "markdown",
      "source": [
        "We can use the following formulas to calculate the electrostatic energy on a distance r:"
      ],
      "metadata": {
        "id": "C7vuJFdwbdqF"
      }
    },
    {
      "cell_type": "markdown",
      "source": [
        "![Screenshot 2022-11-13 201755.jpg](data:image/jpeg;base64,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)"
      ],
      "metadata": {
        "id": "eQmtL_WIbYwU"
      }
    },
    {
      "cell_type": "code",
      "source": [
        "def MH_diel(rad) -> float: # calculating the dielectic constant\n",
        "    eps = 86.9525/(1-7.7839*math.e**(-0.3153*rad)) - 8.5525\n",
        "    return eps\n",
        "\n",
        "# calculating the electrostatic energy between two atoms at the distance r\n",
        "def elec_int(at1, at2, r):\n",
        "    return 332.16 * at1.xtra['charge'] * at2.xtra['charge'] / MH_diel(r) / r"
      ],
      "metadata": {
        "id": "jjB9LoE7Y5fk"
      },
      "execution_count": null,
      "outputs": []
    },
    {
      "cell_type": "markdown",
      "source": [
        "### Solvation energy"
      ],
      "metadata": {
        "id": "kMoXI-rfY08F"
      }
    },
    {
      "cell_type": "code",
      "source": [
        "def calc_solvation(res):\n",
        "    solvation = 0\n",
        "    solvation_alanine = 0\n",
        "    for at in res.get_atoms():\n",
        "        if 'EXP_NACCESS' not in at.xtra:\n",
        "            continue\n",
        "        s = float(at.xtra['EXP_NACCESS']) * at.xtra['vdw'].fsrf\n",
        "        solvation += s\n",
        "    return solvation"
      ],
      "metadata": {
        "id": "ohHtRGEgcf9G"
      },
      "execution_count": null,
      "outputs": []
    },
    {
      "cell_type": "code",
      "source": [
        "all_atoms_A[0:10]"
      ],
      "metadata": {
        "colab": {
          "base_uri": "https://localhost:8080/"
        },
        "id": "1Sn21GGujUko",
        "outputId": "2e3bbc05-79dd-47fe-f479-1274af305ff8"
      },
      "execution_count": null,
      "outputs": [
        {
          "output_type": "execute_result",
          "data": {
            "text/plain": [
              "[<Atom N>,\n",
              " <Atom CA>,\n",
              " <Atom C>,\n",
              " <Atom O>,\n",
              " <Atom CB>,\n",
              " <Atom OG>,\n",
              " <Atom H1>,\n",
              " <Atom H2>,\n",
              " <Atom H3>,\n",
              " <Atom HA>]"
            ]
          },
          "metadata": {},
          "execution_count": 123
        }
      ]
    },
    {
      "cell_type": "markdown",
      "source": [
        "### Total energy"
      ],
      "metadata": {
        "id": "-_ahqLzv5pqA"
      }
    },
    {
      "cell_type": "code",
      "source": [
        "def total_energy_residue(res_chain1, res_chain2):\n",
        "    total_eng = 0\n",
        "    for res in res_chain1+res_chain2:\n",
        "        total_eng += calc_solvation(res)\n",
        "    for res1 in res_chain1:\n",
        "        for res2 in res_chain2:\n",
        "            for at1 in res1.get_atoms():\n",
        "                for at2 in res2.get_atoms():\n",
        "                    dist = at1 - at2\n",
        "                    total_eng += elec_int(at1, at2, dist)\n",
        "                    total_eng += vdw_int(at1, at2, dist)   \n",
        "    return total_eng     "
      ],
      "metadata": {
        "id": "OThgp2DNUCRA"
      },
      "execution_count": null,
      "outputs": []
    },
    {
      "cell_type": "markdown",
      "source": [
        "Calculate total chain and structure energies"
      ],
      "metadata": {
        "id": "aInjl83ydJGv"
      }
    },
    {
      "cell_type": "code",
      "source": [
        "residues_A = list(structure[0]['A'].get_residues())\n",
        "residues_E = list(structure[0]['E'].get_residues())\n",
        "total_energy_residue(residues_A, residues_E)"
      ],
      "metadata": {
        "colab": {
          "base_uri": "https://localhost:8080/",
          "height": 348
        },
        "id": "IlVpxd5uiLCj",
        "outputId": "cb879212-1f5c-4854-b1d9-360c6168d894"
      },
      "execution_count": null,
      "outputs": [
        {
          "output_type": "error",
          "ename": "KeyboardInterrupt",
          "evalue": "ignored",
          "traceback": [
            "\u001b[0;31m---------------------------------------------------------------------------\u001b[0m",
            "\u001b[0;31mKeyboardInterrupt\u001b[0m                         Traceback (most recent call last)",
            "\u001b[0;32m<ipython-input-60-1bf095c3bcef>\u001b[0m in \u001b[0;36m<module>\u001b[0;34m\u001b[0m\n\u001b[1;32m      1\u001b[0m \u001b[0mresidues_A\u001b[0m \u001b[0;34m=\u001b[0m \u001b[0mlist\u001b[0m\u001b[0;34m(\u001b[0m\u001b[0mstructure\u001b[0m\u001b[0;34m[\u001b[0m\u001b[0;36m0\u001b[0m\u001b[0;34m]\u001b[0m\u001b[0;34m[\u001b[0m\u001b[0;34m'A'\u001b[0m\u001b[0;34m]\u001b[0m\u001b[0;34m.\u001b[0m\u001b[0mget_residues\u001b[0m\u001b[0;34m(\u001b[0m\u001b[0;34m)\u001b[0m\u001b[0;34m)\u001b[0m\u001b[0;34m\u001b[0m\u001b[0;34m\u001b[0m\u001b[0m\n\u001b[1;32m      2\u001b[0m \u001b[0mresidues_E\u001b[0m \u001b[0;34m=\u001b[0m \u001b[0mlist\u001b[0m\u001b[0;34m(\u001b[0m\u001b[0mstructure\u001b[0m\u001b[0;34m[\u001b[0m\u001b[0;36m0\u001b[0m\u001b[0;34m]\u001b[0m\u001b[0;34m[\u001b[0m\u001b[0;34m'E'\u001b[0m\u001b[0;34m]\u001b[0m\u001b[0;34m.\u001b[0m\u001b[0mget_residues\u001b[0m\u001b[0;34m(\u001b[0m\u001b[0;34m)\u001b[0m\u001b[0;34m)\u001b[0m\u001b[0;34m\u001b[0m\u001b[0;34m\u001b[0m\u001b[0m\n\u001b[0;32m----> 3\u001b[0;31m \u001b[0mtotal_energy_residue\u001b[0m\u001b[0;34m(\u001b[0m\u001b[0mresidues_A\u001b[0m\u001b[0;34m,\u001b[0m \u001b[0mresidues_E\u001b[0m\u001b[0;34m)\u001b[0m\u001b[0;34m\u001b[0m\u001b[0;34m\u001b[0m\u001b[0m\n\u001b[0m",
            "\u001b[0;32m<ipython-input-59-32295c7906a7>\u001b[0m in \u001b[0;36mtotal_energy_residue\u001b[0;34m(res_chain1, res_chain2)\u001b[0m\n\u001b[1;32m      7\u001b[0m             \u001b[0;32mfor\u001b[0m \u001b[0mat1\u001b[0m \u001b[0;32min\u001b[0m \u001b[0mres1\u001b[0m\u001b[0;34m.\u001b[0m\u001b[0mget_atoms\u001b[0m\u001b[0;34m(\u001b[0m\u001b[0;34m)\u001b[0m\u001b[0;34m:\u001b[0m\u001b[0;34m\u001b[0m\u001b[0;34m\u001b[0m\u001b[0m\n\u001b[1;32m      8\u001b[0m                 \u001b[0;32mfor\u001b[0m \u001b[0mat2\u001b[0m \u001b[0;32min\u001b[0m \u001b[0mres2\u001b[0m\u001b[0;34m.\u001b[0m\u001b[0mget_atoms\u001b[0m\u001b[0;34m(\u001b[0m\u001b[0;34m)\u001b[0m\u001b[0;34m:\u001b[0m\u001b[0;34m\u001b[0m\u001b[0;34m\u001b[0m\u001b[0m\n\u001b[0;32m----> 9\u001b[0;31m                     \u001b[0mdist\u001b[0m \u001b[0;34m=\u001b[0m \u001b[0mat1\u001b[0m \u001b[0;34m-\u001b[0m \u001b[0mat2\u001b[0m\u001b[0;34m\u001b[0m\u001b[0;34m\u001b[0m\u001b[0m\n\u001b[0m\u001b[1;32m     10\u001b[0m                     \u001b[0mtotal_eng\u001b[0m \u001b[0;34m+=\u001b[0m \u001b[0melec_int\u001b[0m\u001b[0;34m(\u001b[0m\u001b[0mat1\u001b[0m\u001b[0;34m,\u001b[0m \u001b[0mat2\u001b[0m\u001b[0;34m,\u001b[0m \u001b[0mdist\u001b[0m\u001b[0;34m)\u001b[0m\u001b[0;34m\u001b[0m\u001b[0;34m\u001b[0m\u001b[0m\n\u001b[1;32m     11\u001b[0m                     \u001b[0mtotal_eng\u001b[0m \u001b[0;34m+=\u001b[0m \u001b[0mvdw_int\u001b[0m\u001b[0;34m(\u001b[0m\u001b[0mat1\u001b[0m\u001b[0;34m,\u001b[0m \u001b[0mat2\u001b[0m\u001b[0;34m,\u001b[0m \u001b[0mdist\u001b[0m\u001b[0;34m)\u001b[0m\u001b[0;34m\u001b[0m\u001b[0;34m\u001b[0m\u001b[0m\n",
            "\u001b[0;32m/usr/local/lib/python3.7/dist-packages/Bio/PDB/Atom.py\u001b[0m in \u001b[0;36m__sub__\u001b[0;34m(self, other)\u001b[0m\n\u001b[1;32m    261\u001b[0m         \"\"\"\n\u001b[1;32m    262\u001b[0m         \u001b[0mdiff\u001b[0m \u001b[0;34m=\u001b[0m \u001b[0mself\u001b[0m\u001b[0;34m.\u001b[0m\u001b[0mcoord\u001b[0m \u001b[0;34m-\u001b[0m \u001b[0mother\u001b[0m\u001b[0;34m.\u001b[0m\u001b[0mcoord\u001b[0m\u001b[0;34m\u001b[0m\u001b[0;34m\u001b[0m\u001b[0m\n\u001b[0;32m--> 263\u001b[0;31m         \u001b[0;32mreturn\u001b[0m \u001b[0mnp\u001b[0m\u001b[0;34m.\u001b[0m\u001b[0msqrt\u001b[0m\u001b[0;34m(\u001b[0m\u001b[0mnp\u001b[0m\u001b[0;34m.\u001b[0m\u001b[0mdot\u001b[0m\u001b[0;34m(\u001b[0m\u001b[0mdiff\u001b[0m\u001b[0;34m,\u001b[0m \u001b[0mdiff\u001b[0m\u001b[0;34m)\u001b[0m\u001b[0;34m)\u001b[0m\u001b[0;34m\u001b[0m\u001b[0;34m\u001b[0m\u001b[0m\n\u001b[0m\u001b[1;32m    264\u001b[0m \u001b[0;34m\u001b[0m\u001b[0m\n\u001b[1;32m    265\u001b[0m     \u001b[0;31m# set methods\u001b[0m\u001b[0;34m\u001b[0m\u001b[0;34m\u001b[0m\u001b[0;34m\u001b[0m\u001b[0m\n",
            "\u001b[0;31mKeyboardInterrupt\u001b[0m: "
          ]
        }
      ]
    },
    {
      "cell_type": "markdown",
      "source": [
        "Total energy of entire chains: -166.62"
      ],
      "metadata": {
        "id": "dykKwNRJIDiq"
      }
    },
    {
      "cell_type": "code",
      "source": [
        "total_energy_residue(list(interaction_set_A), list(interaction_set_E))"
      ],
      "metadata": {
        "colab": {
          "base_uri": "https://localhost:8080/"
        },
        "id": "7AmFWbf4Hnqx",
        "outputId": "892dac04-28c9-4fc4-e89a-121b37167131"
      },
      "execution_count": null,
      "outputs": [
        {
          "output_type": "execute_result",
          "data": {
            "text/plain": [
              "-151.58319262420792"
            ]
          },
          "metadata": {},
          "execution_count": 124
        }
      ]
    },
    {
      "cell_type": "markdown",
      "source": [
        "Total energy of interfaces: -151.58"
      ],
      "metadata": {
        "id": "o6UAncwRxvXU"
      }
    },
    {
      "cell_type": "code",
      "source": [
        "list(interaction_set_E)[:10]"
      ],
      "metadata": {
        "colab": {
          "base_uri": "https://localhost:8080/"
        },
        "id": "1E3ExoB1JNAR",
        "outputId": "7a5a16a0-6b36-4503-9ff3-97a00e0da96f"
      },
      "execution_count": null,
      "outputs": [
        {
          "output_type": "execute_result",
          "data": {
            "text/plain": [
              "[<Residue VAL het=  resseq=503 icode= >,\n",
              " <Residue ASN het=  resseq=501 icode= >,\n",
              " <Residue TYR het=  resseq=495 icode= >,\n",
              " <Residue GLN het=  resseq=493 icode= >,\n",
              " <Residue LEU het=  resseq=455 icode= >,\n",
              " <Residue TYR het=  resseq=453 icode= >,\n",
              " <Residue ARG het=  resseq=403 icode= >,\n",
              " <Residue TYR het=  resseq=489 icode= >,\n",
              " <Residue GLY het=  resseq=476 icode= >,\n",
              " <Residue SER het=  resseq=477 icode= >]"
            ]
          },
          "metadata": {},
          "execution_count": 62
        }
      ]
    },
    {
      "cell_type": "markdown",
      "source": [
        "Now we can perform Ala-scanning to find the most important residues in the interaction:"
      ],
      "metadata": {
        "id": "0dy07_3-aImT"
      }
    },
    {
      "cell_type": "code",
      "source": [
        "ala_atoms = {'N', 'H', 'CA', 'HA', 'C', 'O', 'CB', 'HB', 'HB1', 'HB2', 'HB3', 'HA1', 'HA2', 'HA3'}"
      ],
      "metadata": {
        "id": "AT3cMuJoaUN3"
      },
      "execution_count": null,
      "outputs": []
    },
    {
      "cell_type": "code",
      "source": [
        "def ala_energy_residue(res_chain1, res_chain2):\n",
        "    ala_energies = dict()\n",
        "    for res in res_chain1:\n",
        "      total_eng = 0\n",
        "      total_eng += calc_solvation(res) # waving my hand at solvation\n",
        "      for at in res:\n",
        "        if at not in ala_atoms: # only check significant (non-Ala) atoms\n",
        "          for res2 in res_chain2: # against the other interface only\n",
        "            for at2 in res2:\n",
        "              r = at - at2\n",
        "              total_eng += elec_int(at, at2, r)\n",
        "              total_eng += vdw_int(at, at2, r)\n",
        "      ala_energies[(res, res.get_parent())] = round(abs(total_eng), 4)\n",
        "    for res in res_chain2: # same operation for the other interface\n",
        "      total_eng = 0\n",
        "      total_eng += calc_solvation(res)\n",
        "      for at in res:\n",
        "        if at not in ala_atoms:\n",
        "          for res1 in res_chain1:\n",
        "            for at2 in res1:\n",
        "              r = at - at2\n",
        "              total_eng += elec_int(at, at2, r)\n",
        "              total_eng += vdw_int(at, at2, r)\n",
        "      ala_energies[(res, res.get_parent())] = round(abs(total_eng), 4)\n",
        "    return ala_energies     "
      ],
      "metadata": {
        "id": "nSRD1DcYarsE"
      },
      "execution_count": null,
      "outputs": []
    },
    {
      "cell_type": "code",
      "source": [
        "ala_energies = ala_energy_residue(list(interaction_set_A), list(interaction_set_E))"
      ],
      "metadata": {
        "id": "6KKnUsqa1dBa"
      },
      "execution_count": null,
      "outputs": []
    },
    {
      "cell_type": "code",
      "source": [
        "ala_energies"
      ],
      "metadata": {
        "colab": {
          "base_uri": "https://localhost:8080/"
        },
        "id": "_4vkux467IxU",
        "outputId": "e1570de1-a94c-4953-c4ba-fde8de069432"
      },
      "execution_count": null,
      "outputs": [
        {
          "output_type": "execute_result",
          "data": {
            "text/plain": [
              "{(<Residue ASP het=  resseq=355 icode= >, <Chain id=A>): 5.8212,\n",
              " (<Residue LYS het=  resseq=353 icode= >, <Chain id=A>): 21.6895,\n",
              " (<Residue ARG het=  resseq=357 icode= >, <Chain id=A>): 2.6662,\n",
              " (<Residue GLY het=  resseq=326 icode= >, <Chain id=A>): 0.5381,\n",
              " (<Residue THR het=  resseq=324 icode= >, <Chain id=A>): 0.5398,\n",
              " (<Residue THR het=  resseq=78 icode= >, <Chain id=A>): 0.1291,\n",
              " (<Residue GLN het=  resseq=76 icode= >, <Chain id=A>): 0.2423,\n",
              " (<Residue ALA het=  resseq=80 icode= >, <Chain id=A>): 0.1906,\n",
              " (<Residue GLN het=  resseq=325 icode= >, <Chain id=A>): 0.574,\n",
              " (<Residue GLU het=  resseq=329 icode= >, <Chain id=A>): 0.498,\n",
              " (<Residue MET het=  resseq=82 icode= >, <Chain id=A>): 5.0191,\n",
              " (<Residue LEU het=  resseq=79 icode= >, <Chain id=A>): 3.5324,\n",
              " (<Residue PHE het=  resseq=32 icode= >, <Chain id=A>): 0.4556,\n",
              " (<Residue ASP het=  resseq=38 icode= >, <Chain id=A>): 5.9824,\n",
              " (<Residue TYR het=  resseq=83 icode= >, <Chain id=A>): 8.4827,\n",
              " (<Residue GLN het=  resseq=81 icode= >, <Chain id=A>): 0.1243,\n",
              " (<Residue HIE het=  resseq=34 icode= >, <Chain id=A>): 10.8366,\n",
              " (<Residue LEU het=  resseq=351 icode= >, <Chain id=A>): 0.4833,\n",
              " (<Residue GLU het=  resseq=35 icode= >, <Chain id=A>): 1.4012,\n",
              " (<Residue ASN het=  resseq=33 icode= >, <Chain id=A>): 0.4569,\n",
              " (<Residue ASN het=  resseq=330 icode= >, <Chain id=A>): 3.2671,\n",
              " (<Residue LEU het=  resseq=39 icode= >, <Chain id=A>): 0.3023,\n",
              " (<Residue GLU het=  resseq=37 icode= >, <Chain id=A>): 2.8824,\n",
              " (<Residue TYR het=  resseq=41 icode= >, <Chain id=A>): 12.436,\n",
              " (<Residue LEU het=  resseq=45 icode= >, <Chain id=A>): 2.0759,\n",
              " (<Residue ASN het=  resseq=49 icode= >, <Chain id=A>): 0.1681,\n",
              " (<Residue LYS het=  resseq=26 icode= >, <Chain id=A>): 0.347,\n",
              " (<Residue ALA het=  resseq=386 icode= >, <Chain id=A>): 0.1967,\n",
              " (<Residue ALA het=  resseq=387 icode= >, <Chain id=A>): 0.1349,\n",
              " (<Residue THR het=  resseq=20 icode= >, <Chain id=A>): 0.2912,\n",
              " (<Residue GLN het=  resseq=42 icode= >, <Chain id=A>): 7.2045,\n",
              " (<Residue GLN het=  resseq=24 icode= >, <Chain id=A>): 9.2644,\n",
              " (<Residue ASP het=  resseq=30 icode= >, <Chain id=A>): 6.4902,\n",
              " (<Residue PHE het=  resseq=28 icode= >, <Chain id=A>): 5.0934,\n",
              " (<Residue ARG het=  resseq=393 icode= >, <Chain id=A>): 0.7406,\n",
              " (<Residue GLY het=  resseq=352 icode= >, <Chain id=A>): 0.7241,\n",
              " (<Residue SER het=  resseq=19 icode= >, <Chain id=A>): 1.1655,\n",
              " (<Residue PHE het=  resseq=356 icode= >, <Chain id=A>): 0.5098,\n",
              " (<Residue GLU het=  resseq=23 icode= >, <Chain id=A>): 0.5668,\n",
              " (<Residue ILE het=  resseq=21 icode= >, <Chain id=A>): 0.3928,\n",
              " (<Residue THR het=  resseq=27 icode= >, <Chain id=A>): 10.0728,\n",
              " (<Residue ALA het=  resseq=25 icode= >, <Chain id=A>): 0.3944,\n",
              " (<Residue GLY het=  resseq=354 icode= >, <Chain id=A>): 5.1975,\n",
              " (<Residue LYS het=  resseq=31 icode= >, <Chain id=A>): 11.5697,\n",
              " (<Residue LEU het=  resseq=29 icode= >, <Chain id=A>): 0.4317,\n",
              " (<Residue SER het=  resseq=494 icode= >, <Chain id=E>): 0.5573,\n",
              " (<Residue LEU het=  resseq=492 icode= >, <Chain id=E>): 0.1934,\n",
              " (<Residue VAL het=  resseq=503 icode= >, <Chain id=E>): 0.9321,\n",
              " (<Residue ASN het=  resseq=501 icode= >, <Chain id=E>): 9.6969,\n",
              " (<Residue TYR het=  resseq=495 icode= >, <Chain id=E>): 0.8893,\n",
              " (<Residue GLN het=  resseq=493 icode= >, <Chain id=E>): 5.5384,\n",
              " (<Residue LEU het=  resseq=455 icode= >, <Chain id=E>): 7.8129,\n",
              " (<Residue TYR het=  resseq=453 icode= >, <Chain id=E>): 4.7823,\n",
              " (<Residue ARG het=  resseq=403 icode= >, <Chain id=E>): 1.5712,\n",
              " (<Residue TYR het=  resseq=489 icode= >, <Chain id=E>): 12.311,\n",
              " (<Residue GLY het=  resseq=476 icode= >, <Chain id=E>): 1.7546,\n",
              " (<Residue TYR het=  resseq=421 icode= >, <Chain id=E>): 0.242,\n",
              " (<Residue SER het=  resseq=477 icode= >, <Chain id=E>): 0.4985,\n",
              " (<Residue GLY het=  resseq=496 icode= >, <Chain id=E>): 2.9874,\n",
              " (<Residue TYR het=  resseq=505 icode= >, <Chain id=E>): 16.6163,\n",
              " (<Residue GLN het=  resseq=506 icode= >, <Chain id=E>): 0.5923,\n",
              " (<Residue CYX het=  resseq=488 icode= >, <Chain id=E>): 0.4024,\n",
              " (<Residue PRO het=  resseq=499 icode= >, <Chain id=E>): 0.7973,\n",
              " (<Residue PHE het=  resseq=497 icode= >, <Chain id=E>): 0.7261,\n",
              " (<Residue GLN het=  resseq=498 icode= >, <Chain id=E>): 9.7374,\n",
              " (<Residue GLY het=  resseq=446 icode= >, <Chain id=E>): 1.8192,\n",
              " (<Residue GLY het=  resseq=504 icode= >, <Chain id=E>): 0.3843,\n",
              " (<Residue GLU het=  resseq=406 icode= >, <Chain id=E>): 0.4252,\n",
              " (<Residue TYR het=  resseq=449 icode= >, <Chain id=E>): 6.8364,\n",
              " (<Residue GLY het=  resseq=447 icode= >, <Chain id=E>): 0.5579,\n",
              " (<Residue VAL het=  resseq=445 icode= >, <Chain id=E>): 0.5628,\n",
              " (<Residue ALA het=  resseq=475 icode= >, <Chain id=E>): 4.5867,\n",
              " (<Residue TYR het=  resseq=473 icode= >, <Chain id=E>): 1.6531,\n",
              " (<Residue GLN het=  resseq=474 icode= >, <Chain id=E>): 0.3256,\n",
              " (<Residue PHE het=  resseq=456 icode= >, <Chain id=E>): 9.8606,\n",
              " (<Residue PHE het=  resseq=486 icode= >, <Chain id=E>): 13.422,\n",
              " (<Residue GLU het=  resseq=484 icode= >, <Chain id=E>): 0.3414,\n",
              " (<Residue ASN het=  resseq=487 icode= >, <Chain id=E>): 9.6545,\n",
              " (<Residue PHE het=  resseq=490 icode= >, <Chain id=E>): 0.433,\n",
              " (<Residue GLY het=  resseq=485 icode= >, <Chain id=E>): 0.3402,\n",
              " (<Residue GLY het=  resseq=502 icode= >, <Chain id=E>): 6.6234,\n",
              " (<Residue LYS het=  resseq=417 icode= >, <Chain id=E>): 2.6448,\n",
              " (<Residue THR het=  resseq=500 icode= >, <Chain id=E>): 14.0061}"
            ]
          },
          "metadata": {},
          "execution_count": 157
        }
      ]
    },
    {
      "cell_type": "code",
      "source": [
        "sign_energies = {i:v for i,v in ala_energies.items() if v > 1}"
      ],
      "metadata": {
        "id": "DSD939Io_lkz"
      },
      "execution_count": null,
      "outputs": []
    },
    {
      "cell_type": "code",
      "source": [
        "sorted(sign_energies.items(), key = lambda x: x[1])"
      ],
      "metadata": {
        "colab": {
          "base_uri": "https://localhost:8080/"
        },
        "id": "XXv-N6mu_6__",
        "outputId": "f40756ac-e75e-4a22-985f-f9ef0fa31cb3"
      },
      "execution_count": null,
      "outputs": [
        {
          "output_type": "execute_result",
          "data": {
            "text/plain": [
              "[((<Residue SER het=  resseq=19 icode= >, <Chain id=A>), 1.1655),\n",
              " ((<Residue GLU het=  resseq=35 icode= >, <Chain id=A>), 1.4012),\n",
              " ((<Residue ARG het=  resseq=403 icode= >, <Chain id=E>), 1.5712),\n",
              " ((<Residue TYR het=  resseq=473 icode= >, <Chain id=E>), 1.6531),\n",
              " ((<Residue GLY het=  resseq=476 icode= >, <Chain id=E>), 1.7546),\n",
              " ((<Residue GLY het=  resseq=446 icode= >, <Chain id=E>), 1.8192),\n",
              " ((<Residue LEU het=  resseq=45 icode= >, <Chain id=A>), 2.0759),\n",
              " ((<Residue LYS het=  resseq=417 icode= >, <Chain id=E>), 2.6448),\n",
              " ((<Residue ARG het=  resseq=357 icode= >, <Chain id=A>), 2.6662),\n",
              " ((<Residue GLU het=  resseq=37 icode= >, <Chain id=A>), 2.8824),\n",
              " ((<Residue GLY het=  resseq=496 icode= >, <Chain id=E>), 2.9874),\n",
              " ((<Residue ASN het=  resseq=330 icode= >, <Chain id=A>), 3.2671),\n",
              " ((<Residue LEU het=  resseq=79 icode= >, <Chain id=A>), 3.5324),\n",
              " ((<Residue ALA het=  resseq=475 icode= >, <Chain id=E>), 4.5867),\n",
              " ((<Residue TYR het=  resseq=453 icode= >, <Chain id=E>), 4.7823),\n",
              " ((<Residue MET het=  resseq=82 icode= >, <Chain id=A>), 5.0191),\n",
              " ((<Residue PHE het=  resseq=28 icode= >, <Chain id=A>), 5.0934),\n",
              " ((<Residue GLY het=  resseq=354 icode= >, <Chain id=A>), 5.1975),\n",
              " ((<Residue GLN het=  resseq=493 icode= >, <Chain id=E>), 5.5384),\n",
              " ((<Residue ASP het=  resseq=355 icode= >, <Chain id=A>), 5.8212),\n",
              " ((<Residue ASP het=  resseq=38 icode= >, <Chain id=A>), 5.9824),\n",
              " ((<Residue ASP het=  resseq=30 icode= >, <Chain id=A>), 6.4902),\n",
              " ((<Residue GLY het=  resseq=502 icode= >, <Chain id=E>), 6.6234),\n",
              " ((<Residue TYR het=  resseq=449 icode= >, <Chain id=E>), 6.8364),\n",
              " ((<Residue GLN het=  resseq=42 icode= >, <Chain id=A>), 7.2045),\n",
              " ((<Residue LEU het=  resseq=455 icode= >, <Chain id=E>), 7.8129),\n",
              " ((<Residue TYR het=  resseq=83 icode= >, <Chain id=A>), 8.4827),\n",
              " ((<Residue GLN het=  resseq=24 icode= >, <Chain id=A>), 9.2644),\n",
              " ((<Residue ASN het=  resseq=487 icode= >, <Chain id=E>), 9.6545),\n",
              " ((<Residue ASN het=  resseq=501 icode= >, <Chain id=E>), 9.6969),\n",
              " ((<Residue GLN het=  resseq=498 icode= >, <Chain id=E>), 9.7374),\n",
              " ((<Residue PHE het=  resseq=456 icode= >, <Chain id=E>), 9.8606),\n",
              " ((<Residue THR het=  resseq=27 icode= >, <Chain id=A>), 10.0728),\n",
              " ((<Residue HIE het=  resseq=34 icode= >, <Chain id=A>), 10.8366),\n",
              " ((<Residue LYS het=  resseq=31 icode= >, <Chain id=A>), 11.5697),\n",
              " ((<Residue TYR het=  resseq=489 icode= >, <Chain id=E>), 12.311),\n",
              " ((<Residue TYR het=  resseq=41 icode= >, <Chain id=A>), 12.436),\n",
              " ((<Residue PHE het=  resseq=486 icode= >, <Chain id=E>), 13.422),\n",
              " ((<Residue THR het=  resseq=500 icode= >, <Chain id=E>), 14.0061),\n",
              " ((<Residue TYR het=  resseq=505 icode= >, <Chain id=E>), 16.6163),\n",
              " ((<Residue LYS het=  resseq=353 icode= >, <Chain id=A>), 21.6895)]"
            ]
          },
          "metadata": {},
          "execution_count": 159
        }
      ]
    }
  ],
  "metadata": {
    "colab": {
      "provenance": [],
      "collapsed_sections": [
        "0Ntxpft-Wadm",
        "cJbQi6_ktckv",
        "sXbj5-0HYeeC",
        "uQz3U0tBYRfB"
      ]
    },
    "kernelspec": {
      "display_name": "Python 3",
      "name": "python3"
    },
    "language_info": {
      "name": "python"
    }
  },
  "nbformat": 4,
  "nbformat_minor": 0
}